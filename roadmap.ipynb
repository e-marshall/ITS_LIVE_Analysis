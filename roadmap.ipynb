{
 "cells": [
  {
   "cell_type": "raw",
   "metadata": {},
   "source": [
    "---\n",
    "description: package for working with itslive ice velocity data\n",
    "output-file: index.html\n",
    "title: ITS_LIVE_TOOL\n",
    "skip_showdoc: true\n",
    "skip_exec: true\n",
    "---\n",
    "\n"
   ]
  },
  {
   "cell_type": "markdown",
   "metadata": {},
   "source": [
    "# About\n"
   ]
  },
  {
   "cell_type": "markdown",
   "metadata": {},
   "source": [
    "\n",
    "`ITS_LIVE_TOOL` is a package designed to aid users working with the [Inter-mission Time Series of Land Ice Velocity and Elevation](link) (ITS_LIVE) dataset. The package provides functions for accessing data as well as various methods to process ITS_LIVE observations. This notebook will demonstrate various elements of the package and walk through the steps of a typical workflow using ITS_LIVE_TOOL. \n",
    "\n",
    "## Overview \n",
    "\n",
    "- Data Access\n",
    "- Organization\n",
    "- Data Processing\n",
    "- Velocity Inversion\n",
    "\n",
    "### Data Access + Organization\n",
    "\n",
    "#### 1. Interactive map widget\n",
    "\n",
    "This is an interactive widget design to streamline access ITS_LIVE image pair ice velocity time series. \n",
    "\n",
    "#### 2. Organization: `Glacier`, `Glacier_Centerline`, `Glacier_Point` objects\n",
    "\n",
    "These are provided to store and keep track of different types of data related to individual units of analysis such as points, centerlines or full glacier surface areas. \n",
    "\n",
    "This roadmap document will first demonstrate data access and organization tools before demonstrating the processing tools. \n",
    "\n",
    "### Data Processing\n",
    "\n",
    "We demonstrate and make available two processing routines. Be sure to check out the accompanying [book]() and consider if either of these are appropriate for your data and use case. Note that these methods are in active development and thus should be considered in *beta* phase. Please perform your own data inspection and due diligence if implementing these methods. \n",
    "\n",
    "#### Inversion\n",
    "\n",
    "The Velocity Inversion solves ITS_LIVE's velocity timestamp issue. It inputs the length in time of all satellite pairs and recalculates a velocity that weighs each ITS_LIVE velocities falling withing the same time-window. It is a way of correcting and interpolating the dataset.\n",
    "\n",
    "### Processing\n",
    "\n",
    "We demonstrate and make available two processing routines. Be sure to check out the accompanying [book]() and consider if either of these are appropriate for your data and use case. Note that these methods are in active development and thus should be considered in *beta* phase. Please perform your own data inspection and due diligence if implementing these methods. "
   ]
  },
  {
   "cell_type": "code",
   "execution_count": 1,
   "metadata": {},
   "outputs": [],
   "source": [
    "from ITS_LIVE_TOOL import datacube_tools, interactive, obj_setup, programmatic_access, invert"
   ]
  },
  {
   "cell_type": "code",
   "execution_count": 2,
   "metadata": {},
   "outputs": [],
   "source": [
    "import os\n",
    "import numpy as np\n",
    "import pyproj\n",
    "import matplotlib.path as path\n",
    "import s3fs\n",
    "import zarr\n",
    "import matplotlib.pyplot as plt\n",
    "import scipy\n",
    "from datetime import timedelta\n",
    "from tqdm import tqdm\n",
    "import xarray as xr\n",
    "import re\n",
    "import pandas as pd\n",
    "import geopandas as gpd\n",
    "import matplotlib.path as mplp\n",
    "import ipyleaflet as ipyl\n",
    "from ipyleaflet import WMSLayer\n",
    "import ipywidgets as ipyw\n",
    "import json\n",
    "import pandas as pd\n",
    "from ipyleaflet import Map, WMSLayer, basemaps, GeoData\n",
    "from ipywidgets import HTML\n",
    "from owslib.wms import WebMapService"
   ]
  },
  {
   "cell_type": "markdown",
   "metadata": {},
   "source": [
    "## Install\n",
    "\n",
    "Install this package using the below command \n",
    "\n",
    "```{note}\n",
    "someday we hope to have a pip or conda install, for now use pip install git+ github repo url\n",
    "```"
   ]
  },
  {
   "cell_type": "markdown",
   "metadata": {},
   "source": [
    "# Section 1: Data Access + Organization"
   ]
  },
  {
   "cell_type": "markdown",
   "metadata": {},
   "source": [
    "## Data access: Interactive, Programmatic options\n",
    "### How to use\n",
    "\n",
    "There are two ways to access data using ITS_LIVE_TOOL. The first way is through the interactive widget. This is great for exploratory analysis. The second way is by specifying an RGI ID and point coordinates manually. This is useful if you already know which glacier(s) you want to examine and simply want to pass a list of RGI IDs and coordinates. We'll first demonstrate using the interactive widget.\n",
    "\n",
    "## Interactive data selection widget\n",
    "\n",
    "First, use the interactive map to select data. Do this by right- and left-clicking on the map location where you'd like to access data. \n",
    "This will return an object containing the coordinates of the point you clicked, a `geopandas.GeoDataFrame` of the [RGI7](http://www.glims.org/rgi_user_guide/welcome.html) data for that glacier and the URL of the ITS_LIVE granule covering the clicked point. \n",
    "\n",
    "```{note}\n",
    "If the glacier you want to study lies in multiple ITS_LIVE granules, or you'd like to look at multiple glaciers, click in multiple points and the output objects will be appended with each click. \n",
    "```"
   ]
  },
  {
   "cell_type": "code",
   "execution_count": 3,
   "metadata": {},
   "outputs": [],
   "source": [
    "#| eval: false\n",
    "#| output: false\n",
    "\n",
    "data_map = interactive.Widget()"
   ]
  },
  {
   "cell_type": "code",
   "execution_count": 4,
   "metadata": {
    "scrolled": true
   },
   "outputs": [
    {
     "data": {
      "application/vnd.jupyter.widget-view+json": {
       "model_id": "2aa851cfbe124406814069f28b601f53",
       "version_major": 2,
       "version_minor": 0
      },
      "text/plain": [
       "GridBox(children=(VBox(children=(Map(center=[0, 0], controls=(ZoomControl(options=['position', 'zoom_in_text',…"
      ]
     },
     "execution_count": 4,
     "metadata": {},
     "output_type": "execute_result"
    }
   ],
   "source": [
    "#| eval: false\n",
    "#| output: false\n",
    "\n",
    "data_map.display()"
   ]
  },
  {
   "cell_type": "markdown",
   "metadata": {},
   "source": [
    "### If you want to directly invert the dataset, jump to section 3"
   ]
  },
  {
   "cell_type": "code",
   "execution_count": 5,
   "metadata": {},
   "outputs": [
    {
     "data": {
      "text/plain": [
       "[[35.4912009739323, 77.00637692354604]]"
      ]
     },
     "execution_count": 5,
     "metadata": {},
     "output_type": "execute_result"
    }
   ],
   "source": [
    "data_map.added_coords"
   ]
  },
  {
   "cell_type": "markdown",
   "metadata": {},
   "source": [
    "### Create data objects\n",
    "\n",
    "Once you have made your selection(s) on the map, use the following methods to create objects that will store your data"
   ]
  },
  {
   "cell_type": "markdown",
   "metadata": {},
   "source": [
    "#### If you've only selected one glacier, create individual objects as follows: "
   ]
  },
  {
   "cell_type": "code",
   "execution_count": 6,
   "metadata": {},
   "outputs": [
    {
     "data": {
      "text/plain": [
       "['http://its-live-data.s3.amazonaws.com/datacubes/v2/N30E070/ITS_LIVE_vel_EPSG32643_G0120_X650000_Y3950000.zarr']"
      ]
     },
     "execution_count": 6,
     "metadata": {},
     "output_type": "execute_result"
    }
   ],
   "source": [
    "data_map.urls"
   ]
  },
  {
   "cell_type": "code",
   "execution_count": 7,
   "metadata": {},
   "outputs": [],
   "source": [
    "glacier = interactive.create_glacier_from_click(data_map, 0)"
   ]
  },
  {
   "cell_type": "code",
   "execution_count": 9,
   "metadata": {},
   "outputs": [
    {
     "data": {
      "text/plain": [
       "'RGI60-14.07524'"
      ]
     },
     "execution_count": 9,
     "metadata": {},
     "output_type": "execute_result"
    }
   ],
   "source": [
    "glacier.rgi_id"
   ]
  },
  {
   "cell_type": "code",
   "execution_count": 12,
   "metadata": {},
   "outputs": [
    {
     "name": "stdout",
     "output_type": "stream",
     "text": [
      "original xy [77.00637692354604, 35.4912009739323] 4326 maps to datacube (681996.6100952318, 3929368.092725802) EPSG:32643\n",
      "subset and load at   2.89 seconds\n"
     ]
    }
   ],
   "source": [
    "glacier_point = interactive.create_glacier_point_from_click(data_map, 0, 'phony label')"
   ]
  },
  {
   "cell_type": "code",
   "execution_count": 13,
   "metadata": {},
   "outputs": [],
   "source": [
    "glacier_centerline = interactive.create_glacier_centerline_from_click(data_map, 0)"
   ]
  },
  {
   "cell_type": "markdown",
   "metadata": {},
   "source": [
    "As you can see, these objects all store data related to the same glacier that was selected, but at different spatial scales. The `glacier` object contains an RGIID, name and the RGI outline and attributes for that glacier. "
   ]
  },
  {
   "cell_type": "code",
   "execution_count": 15,
   "metadata": {},
   "outputs": [
    {
     "data": {
      "text/plain": [
       "<Axes: >"
      ]
     },
     "execution_count": 15,
     "metadata": {},
     "output_type": "execute_result"
    },
    {
     "data": {
      "image/png": "[encoded data removed]",
      "text/plain": [
       "<Figure size 640x480 with 1 Axes>"
      ]
     },
     "metadata": {},
     "output_type": "display_data"
    }
   ],
   "source": [
    "glacier.outline_prj.plot()"
   ]
  },
  {
   "cell_type": "markdown",
   "metadata": {},
   "source": [
    "The `glacier_point` object also has the RGI ID and name inherited from the map widget but additionally contains ITS_LIVE image pair velocity time series data for the selected point as well as a 3x3 pixel cube surrounding the point. "
   ]
  },
  {
   "cell_type": "code",
   "execution_count": 16,
   "metadata": {},
   "outputs": [
    {
     "data": {
      "text/html": [
       "<div><svg style=\"position: absolute; width: 0; height: 0; overflow: hidden\">\n",
       "<defs>\n",
       "<symbol id=\"icon-database\" viewBox=\"0 0 32 32\">\n",
       "<path d=\"M16 0c-8.837 0-16 2.239-16 5v4c0 2.761 7.163 5 16 5s16-2.239 16-5v-4c0-2.761-7.163-5-16-5z\"></path>\n",
       "<path d=\"M16 17c-8.837 0-16-2.239-16-5v6c0 2.761 7.163 5 16 5s16-2.239 16-5v-6c0 2.761-7.163 5-16 5z\"></path>\n",
       "<path d=\"M16 26c-8.837 0-16-2.239-16-5v6c0 2.761 7.163 5 16 5s16-2.239 16-5v-6c0 2.761-7.163 5-16 5z\"></path>\n",
       "</symbol>\n",
       "<symbol id=\"icon-file-text2\" viewBox=\"0 0 32 32\">\n",
       "<path d=\"M28.681 7.159c-0.694-0.947-1.662-2.053-2.724-3.116s-2.169-2.030-3.116-2.724c-1.612-1.182-2.393-1.319-2.841-1.319h-15.5c-1.378 0-2.5 1.121-2.5 2.5v27c0 1.378 1.122 2.5 2.5 2.5h23c1.378 0 2.5-1.122 2.5-2.5v-19.5c0-0.448-0.137-1.23-1.319-2.841zM24.543 5.457c0.959 0.959 1.712 1.825 2.268 2.543h-4.811v-4.811c0.718 0.556 1.584 1.309 2.543 2.268zM28 29.5c0 0.271-0.229 0.5-0.5 0.5h-23c-0.271 0-0.5-0.229-0.5-0.5v-27c0-0.271 0.229-0.5 0.5-0.5 0 0 15.499-0 15.5 0v7c0 0.552 0.448 1 1 1h7v19.5z\"></path>\n",
       "<path d=\"M23 26h-14c-0.552 0-1-0.448-1-1s0.448-1 1-1h14c0.552 0 1 0.448 1 1s-0.448 1-1 1z\"></path>\n",
       "<path d=\"M23 22h-14c-0.552 0-1-0.448-1-1s0.448-1 1-1h14c0.552 0 1 0.448 1 1s-0.448 1-1 1z\"></path>\n",
       "<path d=\"M23 18h-14c-0.552 0-1-0.448-1-1s0.448-1 1-1h14c0.552 0 1 0.448 1 1s-0.448 1-1 1z\"></path>\n",
       "</symbol>\n",
       "</defs>\n",
       "</svg>\n",
       "<style>/* CSS stylesheet for displaying xarray objects in jupyterlab.\n",
       " *\n",
       " */\n",
       "\n",
       ":root {\n",
       "  --xr-font-color0: var(--jp-content-font-color0, rgba(0, 0, 0, 1));\n",
       "  --xr-font-color2: var(--jp-content-font-color2, rgba(0, 0, 0, 0.54));\n",
       "  --xr-font-color3: var(--jp-content-font-color3, rgba(0, 0, 0, 0.38));\n",
       "  --xr-border-color: var(--jp-border-color2, #e0e0e0);\n",
       "  --xr-disabled-color: var(--jp-layout-color3, #bdbdbd);\n",
       "  --xr-background-color: var(--jp-layout-color0, white);\n",
       "  --xr-background-color-row-even: var(--jp-layout-color1, white);\n",
       "  --xr-background-color-row-odd: var(--jp-layout-color2, #eeeeee);\n",
       "}\n",
       "\n",
       "html[theme=dark],\n",
       "body[data-theme=dark],\n",
       "body.vscode-dark {\n",
       "  --xr-font-color0: rgba(255, 255, 255, 1);\n",
       "  --xr-font-color2: rgba(255, 255, 255, 0.54);\n",
       "  --xr-font-color3: rgba(255, 255, 255, 0.38);\n",
       "  --xr-border-color: #1F1F1F;\n",
       "  --xr-disabled-color: #515151;\n",
       "  --xr-background-color: #111111;\n",
       "  --xr-background-color-row-even: #111111;\n",
       "  --xr-background-color-row-odd: #313131;\n",
       "}\n",
       "\n",
       ".xr-wrap {\n",
       "  display: block !important;\n",
       "  min-width: 300px;\n",
       "  max-width: 700px;\n",
       "}\n",
       "\n",
       ".xr-text-repr-fallback {\n",
       "  /* fallback to plain text repr when CSS is not injected (untrusted notebook) */\n",
       "  display: none;\n",
       "}\n",
       "\n",
       ".xr-header {\n",
       "  padding-top: 6px;\n",
       "  padding-bottom: 6px;\n",
       "  margin-bottom: 4px;\n",
       "  border-bottom: solid 1px var(--xr-border-color);\n",
       "}\n",
       "\n",
       ".xr-header > div,\n",
       ".xr-header > ul {\n",
       "  display: inline;\n",
       "  margin-top: 0;\n",
       "  margin-bottom: 0;\n",
       "}\n",
       "\n",
       ".xr-obj-type,\n",
       ".xr-array-name {\n",
       "  margin-left: 2px;\n",
       "  margin-right: 10px;\n",
       "}\n",
       "\n",
       ".xr-obj-type {\n",
       "  color: var(--xr-font-color2);\n",
       "}\n",
       "\n",
       ".xr-sections {\n",
       "  padding-left: 0 !important;\n",
       "  display: grid;\n",
       "  grid-template-columns: 150px auto auto 1fr 20px 20px;\n",
       "}\n",
       "\n",
       ".xr-section-item {\n",
       "  display: contents;\n",
       "}\n",
       "\n",
       ".xr-section-item input {\n",
       "  display: none;\n",
       "}\n",
       "\n",
       ".xr-section-item input + label {\n",
       "  color: var(--xr-disabled-color);\n",
       "}\n",
       "\n",
       ".xr-section-item input:enabled + label {\n",
       "  cursor: pointer;\n",
       "  color: var(--xr-font-color2);\n",
       "}\n",
       "\n",
       ".xr-section-item input:enabled + label:hover {\n",
       "  color: var(--xr-font-color0);\n",
       "}\n",
       "\n",
       ".xr-section-summary {\n",
       "  grid-column: 1;\n",
       "  color: var(--xr-font-color2);\n",
       "  font-weight: 500;\n",
       "}\n",
       "\n",
       ".xr-section-summary > span {\n",
       "  display: inline-block;\n",
       "  padding-left: 0.5em;\n",
       "}\n",
       "\n",
       ".xr-section-summary-in:disabled + label {\n",
       "  color: var(--xr-font-color2);\n",
       "}\n",
       "\n",
       ".xr-section-summary-in + label:before {\n",
       "  display: inline-block;\n",
       "  content: '►';\n",
       "  font-size: 11px;\n",
       "  width: 15px;\n",
       "  text-align: center;\n",
       "}\n",
       "\n",
       ".xr-section-summary-in:disabled + label:before {\n",
       "  color: var(--xr-disabled-color);\n",
       "}\n",
       "\n",
       ".xr-section-summary-in:checked + label:before {\n",
       "  content: '▼';\n",
       "}\n",
       "\n",
       ".xr-section-summary-in:checked + label > span {\n",
       "  display: none;\n",
       "}\n",
       "\n",
       ".xr-section-summary,\n",
       ".xr-section-inline-details {\n",
       "  padding-top: 4px;\n",
       "  padding-bottom: 4px;\n",
       "}\n",
       "\n",
       ".xr-section-inline-details {\n",
       "  grid-column: 2 / -1;\n",
       "}\n",
       "\n",
       ".xr-section-details {\n",
       "  display: none;\n",
       "  grid-column: 1 / -1;\n",
       "  margin-bottom: 5px;\n",
       "}\n",
       "\n",
       ".xr-section-summary-in:checked ~ .xr-section-details {\n",
       "  display: contents;\n",
       "}\n",
       "\n",
       ".xr-array-wrap {\n",
       "  grid-column: 1 / -1;\n",
       "  display: grid;\n",
       "  grid-template-columns: 20px auto;\n",
       "}\n",
       "\n",
       ".xr-array-wrap > label {\n",
       "  grid-column: 1;\n",
       "  vertical-align: top;\n",
       "}\n",
       "\n",
       ".xr-preview {\n",
       "  color: var(--xr-font-color3);\n",
       "}\n",
       "\n",
       ".xr-array-preview,\n",
       ".xr-array-data {\n",
       "  padding: 0 5px !important;\n",
       "  grid-column: 2;\n",
       "}\n",
       "\n",
       ".xr-array-data,\n",
       ".xr-array-in:checked ~ .xr-array-preview {\n",
       "  display: none;\n",
       "}\n",
       "\n",
       ".xr-array-in:checked ~ .xr-array-data,\n",
       ".xr-array-preview {\n",
       "  display: inline-block;\n",
       "}\n",
       "\n",
       ".xr-dim-list {\n",
       "  display: inline-block !important;\n",
       "  list-style: none;\n",
       "  padding: 0 !important;\n",
       "  margin: 0;\n",
       "}\n",
       "\n",
       ".xr-dim-list li {\n",
       "  display: inline-block;\n",
       "  padding: 0;\n",
       "  margin: 0;\n",
       "}\n",
       "\n",
       ".xr-dim-list:before {\n",
       "  content: '(';\n",
       "}\n",
       "\n",
       ".xr-dim-list:after {\n",
       "  content: ')';\n",
       "}\n",
       "\n",
       ".xr-dim-list li:not(:last-child):after {\n",
       "  content: ',';\n",
       "  padding-right: 5px;\n",
       "}\n",
       "\n",
       ".xr-has-index {\n",
       "  font-weight: bold;\n",
       "}\n",
       "\n",
       ".xr-var-list,\n",
       ".xr-var-item {\n",
       "  display: contents;\n",
       "}\n",
       "\n",
       ".xr-var-item > div,\n",
       ".xr-var-item label,\n",
       ".xr-var-item > .xr-var-name span {\n",
       "  background-color: var(--xr-background-color-row-even);\n",
       "  margin-bottom: 0;\n",
       "}\n",
       "\n",
       ".xr-var-item > .xr-var-name:hover span {\n",
       "  padding-right: 5px;\n",
       "}\n",
       "\n",
       ".xr-var-list > li:nth-child(odd) > div,\n",
       ".xr-var-list > li:nth-child(odd) > label,\n",
       ".xr-var-list > li:nth-child(odd) > .xr-var-name span {\n",
       "  background-color: var(--xr-background-color-row-odd);\n",
       "}\n",
       "\n",
       ".xr-var-name {\n",
       "  grid-column: 1;\n",
       "}\n",
       "\n",
       ".xr-var-dims {\n",
       "  grid-column: 2;\n",
       "}\n",
       "\n",
       ".xr-var-dtype {\n",
       "  grid-column: 3;\n",
       "  text-align: right;\n",
       "  color: var(--xr-font-color2);\n",
       "}\n",
       "\n",
       ".xr-var-preview {\n",
       "  grid-column: 4;\n",
       "}\n",
       "\n",
       ".xr-index-preview {\n",
       "  grid-column: 2 / 5;\n",
       "  color: var(--xr-font-color2);\n",
       "}\n",
       "\n",
       ".xr-var-name,\n",
       ".xr-var-dims,\n",
       ".xr-var-dtype,\n",
       ".xr-preview,\n",
       ".xr-attrs dt {\n",
       "  white-space: nowrap;\n",
       "  overflow: hidden;\n",
       "  text-overflow: ellipsis;\n",
       "  padding-right: 10px;\n",
       "}\n",
       "\n",
       ".xr-var-name:hover,\n",
       ".xr-var-dims:hover,\n",
       ".xr-var-dtype:hover,\n",
       ".xr-attrs dt:hover {\n",
       "  overflow: visible;\n",
       "  width: auto;\n",
       "  z-index: 1;\n",
       "}\n",
       "\n",
       ".xr-var-attrs,\n",
       ".xr-var-data,\n",
       ".xr-index-data {\n",
       "  display: none;\n",
       "  background-color: var(--xr-background-color) !important;\n",
       "  padding-bottom: 5px !important;\n",
       "}\n",
       "\n",
       ".xr-var-attrs-in:checked ~ .xr-var-attrs,\n",
       ".xr-var-data-in:checked ~ .xr-var-data,\n",
       ".xr-index-data-in:checked ~ .xr-index-data {\n",
       "  display: block;\n",
       "}\n",
       "\n",
       ".xr-var-data > table {\n",
       "  float: right;\n",
       "}\n",
       "\n",
       ".xr-var-name span,\n",
       ".xr-var-data,\n",
       ".xr-index-name div,\n",
       ".xr-index-data,\n",
       ".xr-attrs {\n",
       "  padding-left: 25px !important;\n",
       "}\n",
       "\n",
       ".xr-attrs,\n",
       ".xr-var-attrs,\n",
       ".xr-var-data,\n",
       ".xr-index-data {\n",
       "  grid-column: 1 / -1;\n",
       "}\n",
       "\n",
       "dl.xr-attrs {\n",
       "  padding: 0;\n",
       "  margin: 0;\n",
       "  display: grid;\n",
       "  grid-template-columns: 125px auto;\n",
       "}\n",
       "\n",
       ".xr-attrs dt,\n",
       ".xr-attrs dd {\n",
       "  padding: 0;\n",
       "  margin: 0;\n",
       "  float: left;\n",
       "  padding-right: 10px;\n",
       "  width: auto;\n",
       "}\n",
       "\n",
       ".xr-attrs dt {\n",
       "  font-weight: normal;\n",
       "  grid-column: 1;\n",
       "}\n",
       "\n",
       ".xr-attrs dt:hover span {\n",
       "  display: inline-block;\n",
       "  background: var(--xr-background-color);\n",
       "  padding-right: 10px;\n",
       "}\n",
       "\n",
       ".xr-attrs dd {\n",
       "  grid-column: 2;\n",
       "  white-space: pre-wrap;\n",
       "  word-break: break-all;\n",
       "}\n",
       "\n",
       ".xr-icon-database,\n",
       ".xr-icon-file-text2,\n",
       ".xr-no-icon {\n",
       "  display: inline-block;\n",
       "  vertical-align: middle;\n",
       "  width: 1em;\n",
       "  height: 1.5em !important;\n",
       "  stroke-width: 0;\n",
       "  stroke: currentColor;\n",
       "  fill: currentColor;\n",
       "}\n",
       "</style><pre class='xr-text-repr-fallback'>&lt;xarray.Dataset&gt;\n",
       "Dimensions:                (time_numeric: 1866, x: 3, y: 3)\n",
       "Coordinates:\n",
       "    mid_date               (time_numeric) datetime64[ns] 1989-11-25T04:53:12....\n",
       "  * x                      (x) float64 6.819e+05 6.82e+05 6.821e+05\n",
       "  * y                      (y) float64 3.929e+06 3.929e+06 3.929e+06\n",
       "    img_separation         (time_numeric) float64 16.0 25.0 16.0 ... 15.0 5.0\n",
       "  * time_numeric           (time_numeric) float64 1.99e+03 ... 2.023e+03\n",
       "    obs_id                 (time_numeric) int64 1 7 9 10 ... 5391 5392 5393 5394\n",
       "    mapping                int64 0\n",
       "Data variables:\n",
       "    v                      (time_numeric, y, x) float32 355.0 262.0 ... 65.0\n",
       "    vy                     (time_numeric, y, x) float32 -342.0 -257.0 ... -46.0\n",
       "    vx                     (time_numeric, y, x) float32 93.0 51.0 ... 91.0 46.0\n",
       "    v_error                (time_numeric, y, x) float32 105.0 103.0 ... 111.0\n",
       "    satellite_img1         (time_numeric) &lt;U2 &#x27;5&#x27; &#x27;5&#x27; &#x27;5&#x27; &#x27;5&#x27; ... &#x27;1A&#x27; &#x27;2B&#x27; &#x27;2B&#x27;\n",
       "    satellite_img2         (time_numeric) &lt;U2 &#x27;5&#x27; &#x27;5&#x27; &#x27;5&#x27; &#x27;5&#x27; ... &#x27;1A&#x27; &#x27;2A&#x27; &#x27;2A&#x27;\n",
       "    acquisition_date_img1  (time_numeric) datetime64[ns] 1989-11-17T04:53:20....\n",
       "    acquisition_date_img2  (time_numeric) datetime64[ns] 1989-12-03T04:53:02....\n",
       "    img1_numeric           (time_numeric) float64 1.99e+03 ... 2.023e+03\n",
       "    img2_numeric           (time_numeric) float64 1.99e+03 ... 2.023e+03\n",
       "Attributes: (12/19)\n",
       "    Conventions:                CF-1.8\n",
       "    GDAL_AREA_OR_POINT:         Area\n",
       "    author:                     ITS_LIVE, a NASA MEaSUREs project (its-live.j...\n",
       "    autoRIFT_parameter_file:    http://its-live-data.s3.amazonaws.com/autorif...\n",
       "    datacube_software_version:  1.0\n",
       "    date_created:               25-Sep-2023 21:40:31\n",
       "    ...                         ...\n",
       "    s3:                         s3://its-live-data/datacubes/v2/N30E070/ITS_L...\n",
       "    skipped_granules:           s3://its-live-data/datacubes/v2/N30E070/ITS_L...\n",
       "    time_standard_img1:         UTC\n",
       "    time_standard_img2:         UTC\n",
       "    title:                      ITS_LIVE datacube of image pair velocities\n",
       "    url:                        https://its-live-data.s3.amazonaws.com/datacu...</pre><div class='xr-wrap' style='display:none'><div class='xr-header'><div class='xr-obj-type'>xarray.Dataset</div></div><ul class='xr-sections'><li class='xr-section-item'><input id='section-390f49d3-cb05-4624-920c-cbbf1747fcc2' class='xr-section-summary-in' type='checkbox' disabled ><label for='section-390f49d3-cb05-4624-920c-cbbf1747fcc2' class='xr-section-summary'  title='Expand/collapse section'>Dimensions:</label><div class='xr-section-inline-details'><ul class='xr-dim-list'><li><span class='xr-has-index'>time_numeric</span>: 1866</li><li><span class='xr-has-index'>x</span>: 3</li><li><span class='xr-has-index'>y</span>: 3</li></ul></div><div class='xr-section-details'></div></li><li class='xr-section-item'><input id='section-0c703e6a-386a-4d49-ac08-e7abe7fae45d' class='xr-section-summary-in' type='checkbox'  checked><label for='section-0c703e6a-386a-4d49-ac08-e7abe7fae45d' class='xr-section-summary' >Coordinates: <span>(7)</span></label><div class='xr-section-inline-details'></div><div class='xr-section-details'><ul class='xr-var-list'><li class='xr-var-item'><div class='xr-var-name'><span>mid_date</span></div><div class='xr-var-dims'>(time_numeric)</div><div class='xr-var-dtype'>datetime64[ns]</div><div class='xr-var-preview xr-preview'>1989-11-25T04:53:12.156636032 .....</div><input id='attrs-8b3aecc2-d8be-48e4-b01d-5a7a27d457ed' class='xr-var-attrs-in' type='checkbox' ><label for='attrs-8b3aecc2-d8be-48e4-b01d-5a7a27d457ed' title='Show/Hide attributes'><svg class='icon xr-icon-file-text2'><use xlink:href='#icon-file-text2'></use></svg></label><input id='data-54e064d8-8793-4212-9b65-039ff3a484ef' class='xr-var-data-in' type='checkbox'><label for='data-54e064d8-8793-4212-9b65-039ff3a484ef' title='Show/Hide data repr'><svg class='icon xr-icon-database'><use xlink:href='#icon-database'></use></svg></label><div class='xr-var-attrs'><dl class='xr-attrs'><dt><span>description :</span></dt><dd>midpoint of image 1 and image 2 acquisition date and time with granule&#x27;s centroid longitude and latitude as microseconds</dd><dt><span>standard_name :</span></dt><dd>image_pair_center_date_with_time_separation</dd></dl></div><div class='xr-var-data'><pre>array([&#x27;1989-11-25T04:53:12.156636032&#x27;, &#x27;1992-02-23T16:50:18.471763968&#x27;,\n",
       "       &#x27;1992-04-07T04:53:15.684882944&#x27;, ..., &#x27;2022-12-25T12:49:29.407317248&#x27;,\n",
       "       &#x27;2022-12-25T17:42:35.221218048&#x27;, &#x27;2022-12-30T17:42:35.221228032&#x27;],\n",
       "      dtype=&#x27;datetime64[ns]&#x27;)</pre></div></li><li class='xr-var-item'><div class='xr-var-name'><span class='xr-has-index'>x</span></div><div class='xr-var-dims'>(x)</div><div class='xr-var-dtype'>float64</div><div class='xr-var-preview xr-preview'>6.819e+05 6.82e+05 6.821e+05</div><input id='attrs-c9407a53-af58-4d38-b2a7-8ee772026569' class='xr-var-attrs-in' type='checkbox' ><label for='attrs-c9407a53-af58-4d38-b2a7-8ee772026569' title='Show/Hide attributes'><svg class='icon xr-icon-file-text2'><use xlink:href='#icon-file-text2'></use></svg></label><input id='data-69707830-5185-43fd-99cc-a00fb6d60696' class='xr-var-data-in' type='checkbox'><label for='data-69707830-5185-43fd-99cc-a00fb6d60696' title='Show/Hide data repr'><svg class='icon xr-icon-database'><use xlink:href='#icon-database'></use></svg></label><div class='xr-var-attrs'><dl class='xr-attrs'><dt><span>description :</span></dt><dd>x coordinate of projection</dd><dt><span>standard_name :</span></dt><dd>projection_x_coordinate</dd><dt><span>axis :</span></dt><dd>X</dd><dt><span>long_name :</span></dt><dd>x coordinate of projection</dd><dt><span>units :</span></dt><dd>metre</dd></dl></div><div class='xr-var-data'><pre>array([681892.5, 682012.5, 682132.5])</pre></div></li><li class='xr-var-item'><div class='xr-var-name'><span class='xr-has-index'>y</span></div><div class='xr-var-dims'>(y)</div><div class='xr-var-dtype'>float64</div><div class='xr-var-preview xr-preview'>3.929e+06 3.929e+06 3.929e+06</div><input id='attrs-b952ef57-e531-498d-9c8a-af9495adc763' class='xr-var-attrs-in' type='checkbox' ><label for='attrs-b952ef57-e531-498d-9c8a-af9495adc763' title='Show/Hide attributes'><svg class='icon xr-icon-file-text2'><use xlink:href='#icon-file-text2'></use></svg></label><input id='data-fdd653da-fd77-45e5-9d16-787ddd2e0e70' class='xr-var-data-in' type='checkbox'><label for='data-fdd653da-fd77-45e5-9d16-787ddd2e0e70' title='Show/Hide data repr'><svg class='icon xr-icon-database'><use xlink:href='#icon-database'></use></svg></label><div class='xr-var-attrs'><dl class='xr-attrs'><dt><span>description :</span></dt><dd>y coordinate of projection</dd><dt><span>standard_name :</span></dt><dd>projection_y_coordinate</dd><dt><span>axis :</span></dt><dd>Y</dd><dt><span>long_name :</span></dt><dd>y coordinate of projection</dd><dt><span>units :</span></dt><dd>metre</dd></dl></div><div class='xr-var-data'><pre>array([3929467.5, 3929347.5, 3929227.5])</pre></div></li><li class='xr-var-item'><div class='xr-var-name'><span>img_separation</span></div><div class='xr-var-dims'>(time_numeric)</div><div class='xr-var-dtype'>float64</div><div class='xr-var-preview xr-preview'>16.0 25.0 16.0 ... 12.0 15.0 5.0</div><input id='attrs-7ce62708-a66f-4ae0-a961-65929e595420' class='xr-var-attrs-in' type='checkbox' disabled><label for='attrs-7ce62708-a66f-4ae0-a961-65929e595420' title='Show/Hide attributes'><svg class='icon xr-icon-file-text2'><use xlink:href='#icon-file-text2'></use></svg></label><input id='data-1c97d91e-662c-4b89-b176-8c36459967b4' class='xr-var-data-in' type='checkbox'><label for='data-1c97d91e-662c-4b89-b176-8c36459967b4' title='Show/Hide data repr'><svg class='icon xr-icon-database'><use xlink:href='#icon-database'></use></svg></label><div class='xr-var-attrs'><dl class='xr-attrs'></dl></div><div class='xr-var-data'><pre>array([16., 25., 16., ..., 12., 15.,  5.])</pre></div></li><li class='xr-var-item'><div class='xr-var-name'><span class='xr-has-index'>time_numeric</span></div><div class='xr-var-dims'>(time_numeric)</div><div class='xr-var-dtype'>float64</div><div class='xr-var-preview xr-preview'>1.99e+03 1.992e+03 ... 2.023e+03</div><input id='attrs-6021ca93-e9f7-45d5-a2a4-9febe45f4bb5' class='xr-var-attrs-in' type='checkbox' disabled><label for='attrs-6021ca93-e9f7-45d5-a2a4-9febe45f4bb5' title='Show/Hide attributes'><svg class='icon xr-icon-file-text2'><use xlink:href='#icon-file-text2'></use></svg></label><input id='data-54663e22-fd81-4761-a32c-1d2db4901136' class='xr-var-data-in' type='checkbox'><label for='data-54663e22-fd81-4761-a32c-1d2db4901136' title='Show/Hide data repr'><svg class='icon xr-icon-database'><use xlink:href='#icon-database'></use></svg></label><div class='xr-var-attrs'><dl class='xr-attrs'></dl></div><div class='xr-var-data'><pre>array([1989.90137 , 1992.147945, 1992.268493, ..., 2022.983562, 2022.983562,\n",
       "       2022.99726 ])</pre></div></li><li class='xr-var-item'><div class='xr-var-name'><span>obs_id</span></div><div class='xr-var-dims'>(time_numeric)</div><div class='xr-var-dtype'>int64</div><div class='xr-var-preview xr-preview'>1 7 9 10 11 ... 5391 5392 5393 5394</div><input id='attrs-12f187e3-1ccf-4ee8-9c70-ba4a8516a6ae' class='xr-var-attrs-in' type='checkbox' disabled><label for='attrs-12f187e3-1ccf-4ee8-9c70-ba4a8516a6ae' title='Show/Hide attributes'><svg class='icon xr-icon-file-text2'><use xlink:href='#icon-file-text2'></use></svg></label><input id='data-d7ca79ca-f045-403d-9ac4-abc646b24997' class='xr-var-data-in' type='checkbox'><label for='data-d7ca79ca-f045-403d-9ac4-abc646b24997' title='Show/Hide data repr'><svg class='icon xr-icon-database'><use xlink:href='#icon-database'></use></svg></label><div class='xr-var-attrs'><dl class='xr-attrs'></dl></div><div class='xr-var-data'><pre>array([   1,    7,    9, ..., 5392, 5393, 5394])</pre></div></li><li class='xr-var-item'><div class='xr-var-name'><span>mapping</span></div><div class='xr-var-dims'>()</div><div class='xr-var-dtype'>int64</div><div class='xr-var-preview xr-preview'>0</div><input id='attrs-485d5b63-a0ff-4697-938d-57e4f3babff9' class='xr-var-attrs-in' type='checkbox' ><label for='attrs-485d5b63-a0ff-4697-938d-57e4f3babff9' title='Show/Hide attributes'><svg class='icon xr-icon-file-text2'><use xlink:href='#icon-file-text2'></use></svg></label><input id='data-7543bea4-c14e-4053-9492-014832f82675' class='xr-var-data-in' type='checkbox'><label for='data-7543bea4-c14e-4053-9492-014832f82675' title='Show/Hide data repr'><svg class='icon xr-icon-database'><use xlink:href='#icon-database'></use></svg></label><div class='xr-var-attrs'><dl class='xr-attrs'><dt><span>crs_wkt :</span></dt><dd>PROJCS[&quot;WGS 84 / UTM zone 43N&quot;,GEOGCS[&quot;WGS 84&quot;,DATUM[&quot;WGS_1984&quot;,SPHEROID[&quot;WGS 84&quot;,6378137,298.257223563,AUTHORITY[&quot;EPSG&quot;,&quot;7030&quot;]],AUTHORITY[&quot;EPSG&quot;,&quot;6326&quot;]],PRIMEM[&quot;Greenwich&quot;,0,AUTHORITY[&quot;EPSG&quot;,&quot;8901&quot;]],UNIT[&quot;degree&quot;,0.0174532925199433,AUTHORITY[&quot;EPSG&quot;,&quot;9122&quot;]],AUTHORITY[&quot;EPSG&quot;,&quot;4326&quot;]],PROJECTION[&quot;Transverse_Mercator&quot;],PARAMETER[&quot;latitude_of_origin&quot;,0],PARAMETER[&quot;central_meridian&quot;,75],PARAMETER[&quot;scale_factor&quot;,0.9996],PARAMETER[&quot;false_easting&quot;,500000],PARAMETER[&quot;false_northing&quot;,0],UNIT[&quot;metre&quot;,1,AUTHORITY[&quot;EPSG&quot;,&quot;9001&quot;]],AXIS[&quot;Easting&quot;,EAST],AXIS[&quot;Northing&quot;,NORTH],AUTHORITY[&quot;EPSG&quot;,&quot;32643&quot;]]</dd><dt><span>semi_major_axis :</span></dt><dd>6378137.0</dd><dt><span>semi_minor_axis :</span></dt><dd>6356752.314245179</dd><dt><span>inverse_flattening :</span></dt><dd>298.257223563</dd><dt><span>reference_ellipsoid_name :</span></dt><dd>WGS 84</dd><dt><span>longitude_of_prime_meridian :</span></dt><dd>0.0</dd><dt><span>prime_meridian_name :</span></dt><dd>Greenwich</dd><dt><span>geographic_crs_name :</span></dt><dd>WGS 84</dd><dt><span>horizontal_datum_name :</span></dt><dd>World Geodetic System 1984</dd><dt><span>projected_crs_name :</span></dt><dd>WGS 84 / UTM zone 43N</dd><dt><span>grid_mapping_name :</span></dt><dd>transverse_mercator</dd><dt><span>latitude_of_projection_origin :</span></dt><dd>0.0</dd><dt><span>longitude_of_central_meridian :</span></dt><dd>75.0</dd><dt><span>false_easting :</span></dt><dd>500000.0</dd><dt><span>false_northing :</span></dt><dd>0.0</dd><dt><span>scale_factor_at_central_meridian :</span></dt><dd>0.9996</dd><dt><span>spatial_ref :</span></dt><dd>PROJCS[&quot;WGS 84 / UTM zone 43N&quot;,GEOGCS[&quot;WGS 84&quot;,DATUM[&quot;WGS_1984&quot;,SPHEROID[&quot;WGS 84&quot;,6378137,298.257223563,AUTHORITY[&quot;EPSG&quot;,&quot;7030&quot;]],AUTHORITY[&quot;EPSG&quot;,&quot;6326&quot;]],PRIMEM[&quot;Greenwich&quot;,0,AUTHORITY[&quot;EPSG&quot;,&quot;8901&quot;]],UNIT[&quot;degree&quot;,0.0174532925199433,AUTHORITY[&quot;EPSG&quot;,&quot;9122&quot;]],AUTHORITY[&quot;EPSG&quot;,&quot;4326&quot;]],PROJECTION[&quot;Transverse_Mercator&quot;],PARAMETER[&quot;latitude_of_origin&quot;,0],PARAMETER[&quot;central_meridian&quot;,75],PARAMETER[&quot;scale_factor&quot;,0.9996],PARAMETER[&quot;false_easting&quot;,500000],PARAMETER[&quot;false_northing&quot;,0],UNIT[&quot;metre&quot;,1,AUTHORITY[&quot;EPSG&quot;,&quot;9001&quot;]],AXIS[&quot;Easting&quot;,EAST],AXIS[&quot;Northing&quot;,NORTH],AUTHORITY[&quot;EPSG&quot;,&quot;32643&quot;]]</dd><dt><span>GeoTransform :</span></dt><dd>681832.5 120.0 0.0 3929527.5 0.0 -120.0</dd></dl></div><div class='xr-var-data'><pre>array(0)</pre></div></li></ul></div></li><li class='xr-section-item'><input id='section-d7b0f48f-0059-4bfc-b809-0bf3b3a66c1f' class='xr-section-summary-in' type='checkbox'  checked><label for='section-d7b0f48f-0059-4bfc-b809-0bf3b3a66c1f' class='xr-section-summary' >Data variables: <span>(10)</span></label><div class='xr-section-inline-details'></div><div class='xr-section-details'><ul class='xr-var-list'><li class='xr-var-item'><div class='xr-var-name'><span>v</span></div><div class='xr-var-dims'>(time_numeric, y, x)</div><div class='xr-var-dtype'>float32</div><div class='xr-var-preview xr-preview'>355.0 262.0 314.0 ... 129.0 65.0</div><input id='attrs-38e9ad6f-5361-4689-9f61-a934f6f67caa' class='xr-var-attrs-in' type='checkbox' ><label for='attrs-38e9ad6f-5361-4689-9f61-a934f6f67caa' title='Show/Hide attributes'><svg class='icon xr-icon-file-text2'><use xlink:href='#icon-file-text2'></use></svg></label><input id='data-c48363c2-2fb0-46a7-8b69-6910709c7f05' class='xr-var-data-in' type='checkbox'><label for='data-c48363c2-2fb0-46a7-8b69-6910709c7f05' title='Show/Hide data repr'><svg class='icon xr-icon-database'><use xlink:href='#icon-database'></use></svg></label><div class='xr-var-attrs'><dl class='xr-attrs'><dt><span>description :</span></dt><dd>velocity magnitude</dd><dt><span>grid_mapping :</span></dt><dd>mapping</dd><dt><span>standard_name :</span></dt><dd>land_ice_surface_velocity</dd><dt><span>units :</span></dt><dd>meter/year</dd></dl></div><div class='xr-var-data'><pre>array([[[ 355.,  262.,  314.],\n",
       "        [ 388.,  257.,  262.],\n",
       "        [ 301.,  387.,  342.]],\n",
       "\n",
       "       [[ 170.,  129.,  175.],\n",
       "        [  90.,  151.,  250.],\n",
       "        [ 163.,  212.,  266.]],\n",
       "\n",
       "       [[1403., 1390., 1379.],\n",
       "        [1392., 1381., 1371.],\n",
       "        [1376., 1374., 1372.]],\n",
       "\n",
       "       ...,\n",
       "\n",
       "       [[ 115.,  115.,  138.],\n",
       "        [ 118.,  115.,  180.],\n",
       "        [ 219.,  154.,  165.]],\n",
       "\n",
       "       [[  nan,   nan,   nan],\n",
       "        [  nan,   nan,   nan],\n",
       "        [  77.,   73.,   50.]],\n",
       "\n",
       "       [[ 129.,  129.,   65.],\n",
       "        [ 129.,  129.,   65.],\n",
       "        [ 129.,  129.,   65.]]], dtype=float32)</pre></div></li><li class='xr-var-item'><div class='xr-var-name'><span>vy</span></div><div class='xr-var-dims'>(time_numeric, y, x)</div><div class='xr-var-dtype'>float32</div><div class='xr-var-preview xr-preview'>-342.0 -257.0 ... -91.0 -46.0</div><input id='attrs-10ce6a4c-13d7-4a28-8e51-0cd7a86ffd02' class='xr-var-attrs-in' type='checkbox' ><label for='attrs-10ce6a4c-13d7-4a28-8e51-0cd7a86ffd02' title='Show/Hide attributes'><svg class='icon xr-icon-file-text2'><use xlink:href='#icon-file-text2'></use></svg></label><input id='data-a9d13da7-6036-4661-80aa-75d57441d927' class='xr-var-data-in' type='checkbox'><label for='data-a9d13da7-6036-4661-80aa-75d57441d927' title='Show/Hide data repr'><svg class='icon xr-icon-database'><use xlink:href='#icon-database'></use></svg></label><div class='xr-var-attrs'><dl class='xr-attrs'><dt><span>description :</span></dt><dd>velocity component in y direction</dd><dt><span>grid_mapping :</span></dt><dd>mapping</dd><dt><span>standard_name :</span></dt><dd>land_ice_surface_y_velocity</dd><dt><span>units :</span></dt><dd>meter/year</dd></dl></div><div class='xr-var-data'><pre>array([[[-342., -257., -299.],\n",
       "        [-385., -257., -257.],\n",
       "        [-299., -385., -342.]],\n",
       "\n",
       "       [[-164.,  -82.,  -82.],\n",
       "        [ -55.,  -82., -137.],\n",
       "        [ -55., -110., -164.]],\n",
       "\n",
       "       [[1388., 1378., 1371.],\n",
       "        [1380., 1371., 1364.],\n",
       "        [1370., 1369., 1367.]],\n",
       "\n",
       "       ...,\n",
       "\n",
       "       [[ -95.,  -95., -122.],\n",
       "        [ -93.,  -95., -158.],\n",
       "        [-197., -133., -147.]],\n",
       "\n",
       "       [[  nan,   nan,   nan],\n",
       "        [  nan,   nan,   nan],\n",
       "        [  31.,   27.,   11.]],\n",
       "\n",
       "       [[ -91.,  -91.,  -46.],\n",
       "        [ -91.,  -91.,  -46.],\n",
       "        [ -91.,  -91.,  -46.]]], dtype=float32)</pre></div></li><li class='xr-var-item'><div class='xr-var-name'><span>vx</span></div><div class='xr-var-dims'>(time_numeric, y, x)</div><div class='xr-var-dtype'>float32</div><div class='xr-var-preview xr-preview'>93.0 51.0 93.0 ... 91.0 91.0 46.0</div><input id='attrs-67969d73-dafb-4370-a3f3-918c4ebddf81' class='xr-var-attrs-in' type='checkbox' ><label for='attrs-67969d73-dafb-4370-a3f3-918c4ebddf81' title='Show/Hide attributes'><svg class='icon xr-icon-file-text2'><use xlink:href='#icon-file-text2'></use></svg></label><input id='data-13c34f7b-a7b3-4e1b-b68b-cae5cb6dfec1' class='xr-var-data-in' type='checkbox'><label for='data-13c34f7b-a7b3-4e1b-b68b-cae5cb6dfec1' title='Show/Hide data repr'><svg class='icon xr-icon-database'><use xlink:href='#icon-database'></use></svg></label><div class='xr-var-attrs'><dl class='xr-attrs'><dt><span>description :</span></dt><dd>velocity component in x direction</dd><dt><span>grid_mapping :</span></dt><dd>mapping</dd><dt><span>standard_name :</span></dt><dd>land_ice_surface_x_velocity</dd><dt><span>units :</span></dt><dd>meter/year</dd></dl></div><div class='xr-var-data'><pre>array([[[  93.,   51.,   93.],\n",
       "        [  51.,    8.,   51.],\n",
       "        [ -35.,  -35.,    8.]],\n",
       "\n",
       "       [[  44.,   99.,  154.],\n",
       "        [  72.,  127.,  209.],\n",
       "        [ 154.,  181.,  209.]],\n",
       "\n",
       "       [[-201., -181., -144.],\n",
       "        [-178., -169., -146.],\n",
       "        [-122., -119., -121.]],\n",
       "\n",
       "       ...,\n",
       "\n",
       "       [[  65.,   65.,   64.],\n",
       "        [  72.,   65.,   85.],\n",
       "        [  95.,   77.,   75.]],\n",
       "\n",
       "       [[  nan,   nan,   nan],\n",
       "        [  nan,   nan,   nan],\n",
       "        [  71.,   68.,   49.]],\n",
       "\n",
       "       [[  91.,   91.,   46.],\n",
       "        [  91.,   91.,   46.],\n",
       "        [  91.,   91.,   46.]]], dtype=float32)</pre></div></li><li class='xr-var-item'><div class='xr-var-name'><span>v_error</span></div><div class='xr-var-dims'>(time_numeric, y, x)</div><div class='xr-var-dtype'>float32</div><div class='xr-var-preview xr-preview'>105.0 103.0 105.0 ... 111.0 111.0</div><input id='attrs-5abdcac8-2fd1-476e-837b-6e8520a4da90' class='xr-var-attrs-in' type='checkbox' ><label for='attrs-5abdcac8-2fd1-476e-837b-6e8520a4da90' title='Show/Hide attributes'><svg class='icon xr-icon-file-text2'><use xlink:href='#icon-file-text2'></use></svg></label><input id='data-961fb48e-e5fc-40f5-96cd-9d5a3d376672' class='xr-var-data-in' type='checkbox'><label for='data-961fb48e-e5fc-40f5-96cd-9d5a3d376672' title='Show/Hide data repr'><svg class='icon xr-icon-database'><use xlink:href='#icon-database'></use></svg></label><div class='xr-var-attrs'><dl class='xr-attrs'><dt><span>description :</span></dt><dd>velocity magnitude error</dd><dt><span>grid_mapping :</span></dt><dd>mapping</dd><dt><span>standard_name :</span></dt><dd>velocity_error</dd><dt><span>units :</span></dt><dd>meter/year</dd></dl></div><div class='xr-var-data'><pre>array([[[105., 103., 105.],\n",
       "        [103., 102., 103.],\n",
       "        [102., 102., 102.]],\n",
       "\n",
       "       [[179., 154., 145.],\n",
       "        [152., 149., 149.],\n",
       "        [138., 147., 153.]],\n",
       "\n",
       "       [[227., 228., 228.],\n",
       "        [228., 228., 228.],\n",
       "        [228., 228., 228.]],\n",
       "\n",
       "       ...,\n",
       "\n",
       "       [[ 45.,  45.,  41.],\n",
       "        [ 47.,  45.,  42.],\n",
       "        [ 40.,  42.,  41.]],\n",
       "\n",
       "       [[ nan,  nan,  nan],\n",
       "        [ nan,  nan,  nan],\n",
       "        [ 39.,  39.,  36.]],\n",
       "\n",
       "       [[111., 111., 111.],\n",
       "        [111., 111., 111.],\n",
       "        [111., 111., 111.]]], dtype=float32)</pre></div></li><li class='xr-var-item'><div class='xr-var-name'><span>satellite_img1</span></div><div class='xr-var-dims'>(time_numeric)</div><div class='xr-var-dtype'>&lt;U2</div><div class='xr-var-preview xr-preview'>&#x27;5&#x27; &#x27;5&#x27; &#x27;5&#x27; &#x27;5&#x27; ... &#x27;1A&#x27; &#x27;2B&#x27; &#x27;2B&#x27;</div><input id='attrs-a2d43ae6-b35b-48d6-bc26-ae4636acc896' class='xr-var-attrs-in' type='checkbox' ><label for='attrs-a2d43ae6-b35b-48d6-bc26-ae4636acc896' title='Show/Hide attributes'><svg class='icon xr-icon-file-text2'><use xlink:href='#icon-file-text2'></use></svg></label><input id='data-81f5c3f6-07bd-4f93-9110-830e75e7738f' class='xr-var-data-in' type='checkbox'><label for='data-81f5c3f6-07bd-4f93-9110-830e75e7738f' title='Show/Hide data repr'><svg class='icon xr-icon-database'><use xlink:href='#icon-database'></use></svg></label><div class='xr-var-attrs'><dl class='xr-attrs'><dt><span>description :</span></dt><dd>id of the satellite that acquired image 1</dd><dt><span>standard_name :</span></dt><dd>image1_satellite</dd></dl></div><div class='xr-var-data'><pre>array([&#x27;5&#x27;, &#x27;5&#x27;, &#x27;5&#x27;, ..., &#x27;1A&#x27;, &#x27;2B&#x27;, &#x27;2B&#x27;], dtype=&#x27;&lt;U2&#x27;)</pre></div></li><li class='xr-var-item'><div class='xr-var-name'><span>satellite_img2</span></div><div class='xr-var-dims'>(time_numeric)</div><div class='xr-var-dtype'>&lt;U2</div><div class='xr-var-preview xr-preview'>&#x27;5&#x27; &#x27;5&#x27; &#x27;5&#x27; &#x27;5&#x27; ... &#x27;1A&#x27; &#x27;2A&#x27; &#x27;2A&#x27;</div><input id='attrs-0fbaefbe-9774-477a-b5ab-a61ba73329ae' class='xr-var-attrs-in' type='checkbox' ><label for='attrs-0fbaefbe-9774-477a-b5ab-a61ba73329ae' title='Show/Hide attributes'><svg class='icon xr-icon-file-text2'><use xlink:href='#icon-file-text2'></use></svg></label><input id='data-da290179-2586-4a7d-920a-b3d8b931e026' class='xr-var-data-in' type='checkbox'><label for='data-da290179-2586-4a7d-920a-b3d8b931e026' title='Show/Hide data repr'><svg class='icon xr-icon-database'><use xlink:href='#icon-database'></use></svg></label><div class='xr-var-attrs'><dl class='xr-attrs'><dt><span>description :</span></dt><dd>id of the satellite that acquired image 2</dd><dt><span>standard_name :</span></dt><dd>image2_satellite</dd></dl></div><div class='xr-var-data'><pre>array([&#x27;5&#x27;, &#x27;5&#x27;, &#x27;5&#x27;, ..., &#x27;1A&#x27;, &#x27;2A&#x27;, &#x27;2A&#x27;], dtype=&#x27;&lt;U2&#x27;)</pre></div></li><li class='xr-var-item'><div class='xr-var-name'><span>acquisition_date_img1</span></div><div class='xr-var-dims'>(time_numeric)</div><div class='xr-var-dtype'>datetime64[ns]</div><div class='xr-var-preview xr-preview'>1989-11-17T04:53:20.200024960 .....</div><input id='attrs-47e2daf7-a124-4608-96a5-17fd764b974b' class='xr-var-attrs-in' type='checkbox' disabled><label for='attrs-47e2daf7-a124-4608-96a5-17fd764b974b' title='Show/Hide attributes'><svg class='icon xr-icon-file-text2'><use xlink:href='#icon-file-text2'></use></svg></label><input id='data-d10b610e-a6d2-4e22-a8b1-c894209a110e' class='xr-var-data-in' type='checkbox'><label for='data-d10b610e-a6d2-4e22-a8b1-c894209a110e' title='Show/Hide data repr'><svg class='icon xr-icon-database'><use xlink:href='#icon-database'></use></svg></label><div class='xr-var-attrs'><dl class='xr-attrs'></dl></div><div class='xr-var-data'><pre>array([&#x27;1989-11-17T04:53:20.200024960&#x27;, &#x27;1992-02-11T04:53:22.383031040&#x27;,\n",
       "       &#x27;1992-03-30T04:53:17.704018944&#x27;, ..., &#x27;2022-12-19T12:49:29.424342016&#x27;,\n",
       "       &#x27;2022-12-18T05:42:39.000000000&#x27;, &#x27;2022-12-28T05:42:39.000000000&#x27;],\n",
       "      dtype=&#x27;datetime64[ns]&#x27;)</pre></div></li><li class='xr-var-item'><div class='xr-var-name'><span>acquisition_date_img2</span></div><div class='xr-var-dims'>(time_numeric)</div><div class='xr-var-dtype'>datetime64[ns]</div><div class='xr-var-preview xr-preview'>1989-12-03T04:53:02.331012992 .....</div><input id='attrs-b14e6873-a2af-49b9-90a2-2291f3857e20' class='xr-var-attrs-in' type='checkbox' disabled><label for='attrs-b14e6873-a2af-49b9-90a2-2291f3857e20' title='Show/Hide attributes'><svg class='icon xr-icon-file-text2'><use xlink:href='#icon-file-text2'></use></svg></label><input id='data-afa99843-f003-4494-991e-c49b81cf8abe' class='xr-var-data-in' type='checkbox'><label for='data-afa99843-f003-4494-991e-c49b81cf8abe' title='Show/Hide data repr'><svg class='icon xr-icon-database'><use xlink:href='#icon-database'></use></svg></label><div class='xr-var-attrs'><dl class='xr-attrs'></dl></div><div class='xr-var-data'><pre>array([&#x27;1989-12-03T04:53:02.331012992&#x27;, &#x27;1992-03-07T04:47:12.720075008&#x27;,\n",
       "       &#x27;1992-04-15T04:53:11.825088000&#x27;, ..., &#x27;2022-12-31T12:49:28.947853056&#x27;,\n",
       "       &#x27;2023-01-02T05:42:31.000000000&#x27;, &#x27;2023-01-02T05:42:31.000000000&#x27;],\n",
       "      dtype=&#x27;datetime64[ns]&#x27;)</pre></div></li><li class='xr-var-item'><div class='xr-var-name'><span>img1_numeric</span></div><div class='xr-var-dims'>(time_numeric)</div><div class='xr-var-dtype'>float64</div><div class='xr-var-preview xr-preview'>1.99e+03 1.992e+03 ... 2.023e+03</div><input id='attrs-618cddd2-4f23-4f65-aef8-fbde08164ecc' class='xr-var-attrs-in' type='checkbox' disabled><label for='attrs-618cddd2-4f23-4f65-aef8-fbde08164ecc' title='Show/Hide attributes'><svg class='icon xr-icon-file-text2'><use xlink:href='#icon-file-text2'></use></svg></label><input id='data-d47347c7-bbd1-4cd0-a6a2-7609eb840926' class='xr-var-data-in' type='checkbox'><label for='data-d47347c7-bbd1-4cd0-a6a2-7609eb840926' title='Show/Hide data repr'><svg class='icon xr-icon-database'><use xlink:href='#icon-database'></use></svg></label><div class='xr-var-attrs'><dl class='xr-attrs'></dl></div><div class='xr-var-data'><pre>array([1989.87945205, 1992.11506849, 1992.24657534, ..., 2022.96712329,\n",
       "       2022.96438356, 2022.99178082])</pre></div></li><li class='xr-var-item'><div class='xr-var-name'><span>img2_numeric</span></div><div class='xr-var-dims'>(time_numeric)</div><div class='xr-var-dtype'>float64</div><div class='xr-var-preview xr-preview'>1.99e+03 1.992e+03 ... 2.023e+03</div><input id='attrs-289ce823-bf37-45ba-8766-1bcb9395a999' class='xr-var-attrs-in' type='checkbox' disabled><label for='attrs-289ce823-bf37-45ba-8766-1bcb9395a999' title='Show/Hide attributes'><svg class='icon xr-icon-file-text2'><use xlink:href='#icon-file-text2'></use></svg></label><input id='data-8a44b4d3-f0e0-4379-bfe6-244bd38a1ef7' class='xr-var-data-in' type='checkbox'><label for='data-8a44b4d3-f0e0-4379-bfe6-244bd38a1ef7' title='Show/Hide data repr'><svg class='icon xr-icon-database'><use xlink:href='#icon-database'></use></svg></label><div class='xr-var-attrs'><dl class='xr-attrs'></dl></div><div class='xr-var-data'><pre>array([1989.92328767, 1992.18356164, 1992.29041096, ..., 2023.        ,\n",
       "       2023.00547945, 2023.00547945])</pre></div></li></ul></div></li><li class='xr-section-item'><input id='section-1ac242e0-c938-4fb7-9d0c-13fd18af2ac7' class='xr-section-summary-in' type='checkbox'  ><label for='section-1ac242e0-c938-4fb7-9d0c-13fd18af2ac7' class='xr-section-summary' >Indexes: <span>(3)</span></label><div class='xr-section-inline-details'></div><div class='xr-section-details'><ul class='xr-var-list'><li class='xr-var-item'><div class='xr-index-name'><div>x</div></div><div class='xr-index-preview'>PandasIndex</div><div></div><input id='index-9e14c901-f4fd-4e6a-a1ee-901422f775fb' class='xr-index-data-in' type='checkbox'/><label for='index-9e14c901-f4fd-4e6a-a1ee-901422f775fb' title='Show/Hide index repr'><svg class='icon xr-icon-database'><use xlink:href='#icon-database'></use></svg></label><div class='xr-index-data'><pre>PandasIndex(Float64Index([681892.5, 682012.5, 682132.5], dtype=&#x27;float64&#x27;, name=&#x27;x&#x27;))</pre></div></li><li class='xr-var-item'><div class='xr-index-name'><div>y</div></div><div class='xr-index-preview'>PandasIndex</div><div></div><input id='index-96d429b8-d910-4197-abae-fb74e0a1ff9d' class='xr-index-data-in' type='checkbox'/><label for='index-96d429b8-d910-4197-abae-fb74e0a1ff9d' title='Show/Hide index repr'><svg class='icon xr-icon-database'><use xlink:href='#icon-database'></use></svg></label><div class='xr-index-data'><pre>PandasIndex(Float64Index([3929467.5, 3929347.5, 3929227.5], dtype=&#x27;float64&#x27;, name=&#x27;y&#x27;))</pre></div></li><li class='xr-var-item'><div class='xr-index-name'><div>time_numeric</div></div><div class='xr-index-preview'>PandasIndex</div><div></div><input id='index-c15aefe5-6a0f-475e-96f3-f2d7d49d6e68' class='xr-index-data-in' type='checkbox'/><label for='index-c15aefe5-6a0f-475e-96f3-f2d7d49d6e68' title='Show/Hide index repr'><svg class='icon xr-icon-database'><use xlink:href='#icon-database'></use></svg></label><div class='xr-index-data'><pre>PandasIndex(Float64Index([1989.9013698630138, 1992.1479452054793,  1992.268493150685,\n",
       "              1992.2931506849316, 1992.3342465753424,   1992.33698630137,\n",
       "               1992.849315068493, 1992.9479452054795, 1992.9917808219177,\n",
       "              1992.9917808219177,\n",
       "              ...\n",
       "              2022.9561643835616,  2022.964383561644,  2022.964383561644,\n",
       "              2022.9671232876713, 2022.9698630136986,  2022.978082191781,\n",
       "               2022.978082191781, 2022.9835616438356, 2022.9835616438356,\n",
       "              2022.9972602739726],\n",
       "             dtype=&#x27;float64&#x27;, name=&#x27;time_numeric&#x27;, length=1866))</pre></div></li></ul></div></li><li class='xr-section-item'><input id='section-37cfa42c-02a0-4a04-8967-03984640301d' class='xr-section-summary-in' type='checkbox'  ><label for='section-37cfa42c-02a0-4a04-8967-03984640301d' class='xr-section-summary' >Attributes: <span>(19)</span></label><div class='xr-section-inline-details'></div><div class='xr-section-details'><dl class='xr-attrs'><dt><span>Conventions :</span></dt><dd>CF-1.8</dd><dt><span>GDAL_AREA_OR_POINT :</span></dt><dd>Area</dd><dt><span>author :</span></dt><dd>ITS_LIVE, a NASA MEaSUREs project (its-live.jpl.nasa.gov)</dd><dt><span>autoRIFT_parameter_file :</span></dt><dd>http://its-live-data.s3.amazonaws.com/autorift_parameters/v001/autorift_landice_0120m.shp</dd><dt><span>datacube_software_version :</span></dt><dd>1.0</dd><dt><span>date_created :</span></dt><dd>25-Sep-2023 21:40:31</dd><dt><span>date_updated :</span></dt><dd>25-Sep-2023 21:40:31</dd><dt><span>geo_polygon :</span></dt><dd>[[76.09904081237153, 35.23808753540768], [76.37373771395167, 35.23528114245288], [76.64839243229527, 35.23185167489208], [76.92299654851548, 35.22779947344429], [77.19754165339832, 35.22312494055522], [77.20365107689102, 35.44838172077874], [77.20982866216805, 35.67362915282389], [77.2160751727205, 35.89886720154925], [77.22239138543658, 36.12409583213699], [76.94474681612479, 36.12892718369556], [76.66704053712027, 36.13311534132254], [76.3892813413495, 36.13665988259089], [76.11147803222622, 36.139560449860255], [76.10831675620092, 35.91420526851637], [76.10519038612571, 35.68884137224295], [76.10209853245563, 35.46346878604592], [76.09904081237153, 35.23808753540768]]</dd><dt><span>institution :</span></dt><dd>NASA Jet Propulsion Laboratory (JPL), California Institute of Technology</dd><dt><span>latitude :</span></dt><dd>35.68</dd><dt><span>longitude :</span></dt><dd>76.66</dd><dt><span>proj_polygon :</span></dt><dd>[[600000, 3900000], [625000.0, 3900000.0], [650000.0, 3900000.0], [675000.0, 3900000.0], [700000, 3900000], [700000.0, 3925000.0], [700000.0, 3950000.0], [700000.0, 3975000.0], [700000, 4000000], [675000.0, 4000000.0], [650000.0, 4000000.0], [625000.0, 4000000.0], [600000, 4000000], [600000.0, 3975000.0], [600000.0, 3950000.0], [600000.0, 3925000.0], [600000, 3900000]]</dd><dt><span>projection :</span></dt><dd>32643</dd><dt><span>s3 :</span></dt><dd>s3://its-live-data/datacubes/v2/N30E070/ITS_LIVE_vel_EPSG32643_G0120_X650000_Y3950000.zarr</dd><dt><span>skipped_granules :</span></dt><dd>s3://its-live-data/datacubes/v2/N30E070/ITS_LIVE_vel_EPSG32643_G0120_X650000_Y3950000.json</dd><dt><span>time_standard_img1 :</span></dt><dd>UTC</dd><dt><span>time_standard_img2 :</span></dt><dd>UTC</dd><dt><span>title :</span></dt><dd>ITS_LIVE datacube of image pair velocities</dd><dt><span>url :</span></dt><dd>https://its-live-data.s3.amazonaws.com/datacubes/v2/N30E070/ITS_LIVE_vel_EPSG32643_G0120_X650000_Y3950000.zarr</dd></dl></div></li></ul></div></div>"
      ],
      "text/plain": [
       "<xarray.Dataset>\n",
       "Dimensions:                (time_numeric: 1866, x: 3, y: 3)\n",
       "Coordinates:\n",
       "    mid_date               (time_numeric) datetime64[ns] 1989-11-25T04:53:12....\n",
       "  * x                      (x) float64 6.819e+05 6.82e+05 6.821e+05\n",
       "  * y                      (y) float64 3.929e+06 3.929e+06 3.929e+06\n",
       "    img_separation         (time_numeric) float64 16.0 25.0 16.0 ... 15.0 5.0\n",
       "  * time_numeric           (time_numeric) float64 1.99e+03 ... 2.023e+03\n",
       "    obs_id                 (time_numeric) int64 1 7 9 10 ... 5391 5392 5393 5394\n",
       "    mapping                int64 0\n",
       "Data variables:\n",
       "    v                      (time_numeric, y, x) float32 355.0 262.0 ... 65.0\n",
       "    vy                     (time_numeric, y, x) float32 -342.0 -257.0 ... -46.0\n",
       "    vx                     (time_numeric, y, x) float32 93.0 51.0 ... 91.0 46.0\n",
       "    v_error                (time_numeric, y, x) float32 105.0 103.0 ... 111.0\n",
       "    satellite_img1         (time_numeric) <U2 '5' '5' '5' '5' ... '1A' '2B' '2B'\n",
       "    satellite_img2         (time_numeric) <U2 '5' '5' '5' '5' ... '1A' '2A' '2A'\n",
       "    acquisition_date_img1  (time_numeric) datetime64[ns] 1989-11-17T04:53:20....\n",
       "    acquisition_date_img2  (time_numeric) datetime64[ns] 1989-12-03T04:53:02....\n",
       "    img1_numeric           (time_numeric) float64 1.99e+03 ... 2.023e+03\n",
       "    img2_numeric           (time_numeric) float64 1.99e+03 ... 2.023e+03\n",
       "Attributes: (12/19)\n",
       "    Conventions:                CF-1.8\n",
       "    GDAL_AREA_OR_POINT:         Area\n",
       "    author:                     ITS_LIVE, a NASA MEaSUREs project (its-live.j...\n",
       "    autoRIFT_parameter_file:    http://its-live-data.s3.amazonaws.com/autorif...\n",
       "    datacube_software_version:  1.0\n",
       "    date_created:               25-Sep-2023 21:40:31\n",
       "    ...                         ...\n",
       "    s3:                         s3://its-live-data/datacubes/v2/N30E070/ITS_L...\n",
       "    skipped_granules:           s3://its-live-data/datacubes/v2/N30E070/ITS_L...\n",
       "    time_standard_img1:         UTC\n",
       "    time_standard_img2:         UTC\n",
       "    title:                      ITS_LIVE datacube of image pair velocities\n",
       "    url:                        https://its-live-data.s3.amazonaws.com/datacu..."
      ]
     },
     "execution_count": 16,
     "metadata": {},
     "output_type": "execute_result"
    }
   ],
   "source": [
    "glacier_point.cube_around_point"
   ]
  },
  {
   "cell_type": "markdown",
   "metadata": {},
   "source": [
    "The `glacier_centerline` object contains the same RGIID and name information as the first two objects. In addition, it contains OGGM centerline data that are stored as geopandas GeodataFrames."
   ]
  },
  {
   "cell_type": "code",
   "execution_count": 17,
   "metadata": {},
   "outputs": [
    {
     "data": {
      "text/html": [
       "<div>\n",
       "<style scoped>\n",
       "    .dataframe tbody tr th:only-of-type {\n",
       "        vertical-align: middle;\n",
       "    }\n",
       "\n",
       "    .dataframe tbody tr th {\n",
       "        vertical-align: top;\n",
       "    }\n",
       "\n",
       "    .dataframe thead th {\n",
       "        text-align: right;\n",
       "    }\n",
       "</style>\n",
       "<table border=\"1\" class=\"dataframe\">\n",
       "  <thead>\n",
       "    <tr style=\"text-align: right;\">\n",
       "      <th></th>\n",
       "      <th>RGIID</th>\n",
       "      <th>SEGMENT_ID</th>\n",
       "      <th>LE_SEGMENT</th>\n",
       "      <th>MAIN</th>\n",
       "      <th>geometry</th>\n",
       "    </tr>\n",
       "  </thead>\n",
       "  <tbody>\n",
       "    <tr>\n",
       "      <th>10671</th>\n",
       "      <td>RGI60-14.07524</td>\n",
       "      <td>17</td>\n",
       "      <td>78786.0</td>\n",
       "      <td>1</td>\n",
       "      <td>LINESTRING (712414.399 3918850.513, 712410.566...</td>\n",
       "    </tr>\n",
       "  </tbody>\n",
       "</table>\n",
       "</div>"
      ],
      "text/plain": [
       "                RGIID  SEGMENT_ID  LE_SEGMENT  MAIN  \\\n",
       "10671  RGI60-14.07524          17     78786.0     1   \n",
       "\n",
       "                                                geometry  \n",
       "10671  LINESTRING (712414.399 3918850.513, 712410.566...  "
      ]
     },
     "execution_count": 17,
     "metadata": {},
     "output_type": "execute_result"
    }
   ],
   "source": [
    "glacier_centerline.main_centerline"
   ]
  },
  {
   "cell_type": "markdown",
   "metadata": {},
   "source": [
    "Each of these objects are meant to act as cotainers to intuitively and efficiently store different types of data as you process and continue to work with ITS_LIVE data. \n",
    "\n",
    "The previous steps demonstrated the data access and organization functionality of ITS_LIVE_TOOl. The subsequent sections of this notebook will demonstrate different processing methodologies for working with this dataset. "
   ]
  },
  {
   "cell_type": "markdown",
   "metadata": {},
   "source": [
    "#### If you've selected multiple glaciers, follow these examples:"
   ]
  },
  {
   "cell_type": "code",
   "execution_count": 13,
   "metadata": {},
   "outputs": [],
   "source": [
    "#glacier0, glacier1 = obj_setup.create_multiple_glacier_objs(data_map)[0], obj_setup.create_multiple_glacier_objs(data_map)[1]"
   ]
  },
  {
   "cell_type": "code",
   "execution_count": 14,
   "metadata": {},
   "outputs": [],
   "source": [
    "# PLEASE DON'T UNCOMMENT, WE ARE WORKING ON THIS\n",
    "\n",
    "#glacier_point_ls = obj_setup.create_multiple_glacier_point_objs(data_map)\n",
    "#glacier_pt0, glacier_pt1 = glacier_point_ls[0], glacier_point_ls[1]"
   ]
  },
  {
   "cell_type": "markdown",
   "metadata": {},
   "source": [
    "## Manual/programmatic data access\n",
    "\n",
    "#create `Glacier`, `Glacier_Point`, `Glacier_Centerline` objects\n",
    "\n",
    "Create `Glacier`, `Glacier_Point`, `Glacier_Centerline` objects without using widget. Specify point coordinates (`list`), RGIID (`str`) and utm zone* (`str):\n",
    "\n",
    "*This is a temporary patch, soon won't have to specify utm zone to create object. "
   ]
  },
  {
   "cell_type": "code",
   "execution_count": 3,
   "metadata": {},
   "outputs": [],
   "source": [
    "point = [76.36013929649597, 35.73912785079385]\n",
    "rgiid = 'RGI60-14.06794'\n",
    "utm = 'EPSG:32643'"
   ]
  },
  {
   "cell_type": "code",
   "execution_count": 4,
   "metadata": {},
   "outputs": [],
   "source": [
    "glacier = programmatic_access.create_glacier_obj('label',rgiid, utm)"
   ]
  },
  {
   "cell_type": "code",
   "execution_count": 6,
   "metadata": {},
   "outputs": [
    {
     "data": {
      "text/plain": [
       "'label'"
      ]
     },
     "execution_count": 6,
     "metadata": {},
     "output_type": "execute_result"
    }
   ],
   "source": [
    "glacier.name"
   ]
  },
  {
   "cell_type": "code",
   "execution_count": 7,
   "metadata": {},
   "outputs": [
    {
     "data": {
      "text/plain": [
       "'RGI60-14.06794'"
      ]
     },
     "execution_count": 7,
     "metadata": {},
     "output_type": "execute_result"
    }
   ],
   "source": [
    "glacier.rgi_id"
   ]
  },
  {
   "cell_type": "code",
   "execution_count": 10,
   "metadata": {},
   "outputs": [
    {
     "data": {
      "text/plain": [
       "<Axes: >"
      ]
     },
     "execution_count": 10,
     "metadata": {},
     "output_type": "execute_result"
    },
    {
     "data": {
      "image/png": "[encoded data removed]",
      "text/plain": [
       "<Figure size 640x480 with 1 Axes>"
      ]
     },
     "metadata": {},
     "output_type": "display_data"
    }
   ],
   "source": [
    "glacier.outline_prj.plot()"
   ]
  },
  {
   "cell_type": "code",
   "execution_count": 11,
   "metadata": {},
   "outputs": [
    {
     "name": "stdout",
     "output_type": "stream",
     "text": [
      "original xy [76.36013929649597, 35.73912785079385] 4326 maps to datacube (622992.2829075075, 3955867.335135076) EPSG:32643\n",
      "subset and load at   3.28 seconds\n"
     ]
    }
   ],
   "source": [
    "glacier_pt = programmatic_access.create_glacier_point_obj(point, 'label', rgiid)"
   ]
  },
  {
   "cell_type": "code",
   "execution_count": 12,
   "metadata": {},
   "outputs": [],
   "source": [
    "glacier_centerline = programmatic_access.create_glacier_centerline_obj('label', rgiid)"
   ]
  },
  {
   "cell_type": "markdown",
   "metadata": {},
   "source": [
    "## Data Organization: `Glacier`, `Glacier_Centerline`, `Glacier_Point` object classes"
   ]
  },
  {
   "cell_type": "markdown",
   "metadata": {},
   "source": [
    "### `Glacier_Point`\n",
    "\n",
    "This object inherits name and RGIID attributes from the `Glacier` object described aboev (or you can input them manually). It takes the coordinate information specified in the widget and list of variables of interest and returns an object containing ITS_LIVE image pair time series datasets for the specified point anda 3x3 pixel cube surrounding the specified point. Check out the docs for a description of all of the attributes and methods associated with this object. "
   ]
  },
  {
   "cell_type": "code",
   "execution_count": 15,
   "metadata": {},
   "outputs": [
    {
     "data": {
      "text/html": [
       "<div>\n",
       "<style scoped>\n",
       "    .dataframe tbody tr th:only-of-type {\n",
       "        vertical-align: middle;\n",
       "    }\n",
       "\n",
       "    .dataframe tbody tr th {\n",
       "        vertical-align: top;\n",
       "    }\n",
       "\n",
       "    .dataframe thead th {\n",
       "        text-align: right;\n",
       "    }\n",
       "</style>\n",
       "<table border=\"1\" class=\"dataframe\">\n",
       "  <thead>\n",
       "    <tr style=\"text-align: right;\">\n",
       "      <th></th>\n",
       "      <th>x</th>\n",
       "      <th>y</th>\n",
       "      <th>geometry</th>\n",
       "    </tr>\n",
       "  </thead>\n",
       "  <tbody>\n",
       "    <tr>\n",
       "      <th>0</th>\n",
       "      <td>76.360139</td>\n",
       "      <td>35.739128</td>\n",
       "      <td>POINT (76.36014 35.73913)</td>\n",
       "    </tr>\n",
       "  </tbody>\n",
       "</table>\n",
       "</div>"
      ],
      "text/plain": [
       "           x          y                   geometry\n",
       "0  76.360139  35.739128  POINT (76.36014 35.73913)"
      ]
     },
     "execution_count": 15,
     "metadata": {},
     "output_type": "execute_result"
    }
   ],
   "source": [
    "glacier_pt.point_gdf"
   ]
  },
  {
   "cell_type": "code",
   "execution_count": 14,
   "metadata": {},
   "outputs": [
    {
     "data": {
      "text/html": [
       "<div><svg style=\"position: absolute; width: 0; height: 0; overflow: hidden\">\n",
       "<defs>\n",
       "<symbol id=\"icon-database\" viewBox=\"0 0 32 32\">\n",
       "<path d=\"M16 0c-8.837 0-16 2.239-16 5v4c0 2.761 7.163 5 16 5s16-2.239 16-5v-4c0-2.761-7.163-5-16-5z\"></path>\n",
       "<path d=\"M16 17c-8.837 0-16-2.239-16-5v6c0 2.761 7.163 5 16 5s16-2.239 16-5v-6c0 2.761-7.163 5-16 5z\"></path>\n",
       "<path d=\"M16 26c-8.837 0-16-2.239-16-5v6c0 2.761 7.163 5 16 5s16-2.239 16-5v-6c0 2.761-7.163 5-16 5z\"></path>\n",
       "</symbol>\n",
       "<symbol id=\"icon-file-text2\" viewBox=\"0 0 32 32\">\n",
       "<path d=\"M28.681 7.159c-0.694-0.947-1.662-2.053-2.724-3.116s-2.169-2.030-3.116-2.724c-1.612-1.182-2.393-1.319-2.841-1.319h-15.5c-1.378 0-2.5 1.121-2.5 2.5v27c0 1.378 1.122 2.5 2.5 2.5h23c1.378 0 2.5-1.122 2.5-2.5v-19.5c0-0.448-0.137-1.23-1.319-2.841zM24.543 5.457c0.959 0.959 1.712 1.825 2.268 2.543h-4.811v-4.811c0.718 0.556 1.584 1.309 2.543 2.268zM28 29.5c0 0.271-0.229 0.5-0.5 0.5h-23c-0.271 0-0.5-0.229-0.5-0.5v-27c0-0.271 0.229-0.5 0.5-0.5 0 0 15.499-0 15.5 0v7c0 0.552 0.448 1 1 1h7v19.5z\"></path>\n",
       "<path d=\"M23 26h-14c-0.552 0-1-0.448-1-1s0.448-1 1-1h14c0.552 0 1 0.448 1 1s-0.448 1-1 1z\"></path>\n",
       "<path d=\"M23 22h-14c-0.552 0-1-0.448-1-1s0.448-1 1-1h14c0.552 0 1 0.448 1 1s-0.448 1-1 1z\"></path>\n",
       "<path d=\"M23 18h-14c-0.552 0-1-0.448-1-1s0.448-1 1-1h14c0.552 0 1 0.448 1 1s-0.448 1-1 1z\"></path>\n",
       "</symbol>\n",
       "</defs>\n",
       "</svg>\n",
       "<style>/* CSS stylesheet for displaying xarray objects in jupyterlab.\n",
       " *\n",
       " */\n",
       "\n",
       ":root {\n",
       "  --xr-font-color0: var(--jp-content-font-color0, rgba(0, 0, 0, 1));\n",
       "  --xr-font-color2: var(--jp-content-font-color2, rgba(0, 0, 0, 0.54));\n",
       "  --xr-font-color3: var(--jp-content-font-color3, rgba(0, 0, 0, 0.38));\n",
       "  --xr-border-color: var(--jp-border-color2, #e0e0e0);\n",
       "  --xr-disabled-color: var(--jp-layout-color3, #bdbdbd);\n",
       "  --xr-background-color: var(--jp-layout-color0, white);\n",
       "  --xr-background-color-row-even: var(--jp-layout-color1, white);\n",
       "  --xr-background-color-row-odd: var(--jp-layout-color2, #eeeeee);\n",
       "}\n",
       "\n",
       "html[theme=dark],\n",
       "body[data-theme=dark],\n",
       "body.vscode-dark {\n",
       "  --xr-font-color0: rgba(255, 255, 255, 1);\n",
       "  --xr-font-color2: rgba(255, 255, 255, 0.54);\n",
       "  --xr-font-color3: rgba(255, 255, 255, 0.38);\n",
       "  --xr-border-color: #1F1F1F;\n",
       "  --xr-disabled-color: #515151;\n",
       "  --xr-background-color: #111111;\n",
       "  --xr-background-color-row-even: #111111;\n",
       "  --xr-background-color-row-odd: #313131;\n",
       "}\n",
       "\n",
       ".xr-wrap {\n",
       "  display: block !important;\n",
       "  min-width: 300px;\n",
       "  max-width: 700px;\n",
       "}\n",
       "\n",
       ".xr-text-repr-fallback {\n",
       "  /* fallback to plain text repr when CSS is not injected (untrusted notebook) */\n",
       "  display: none;\n",
       "}\n",
       "\n",
       ".xr-header {\n",
       "  padding-top: 6px;\n",
       "  padding-bottom: 6px;\n",
       "  margin-bottom: 4px;\n",
       "  border-bottom: solid 1px var(--xr-border-color);\n",
       "}\n",
       "\n",
       ".xr-header > div,\n",
       ".xr-header > ul {\n",
       "  display: inline;\n",
       "  margin-top: 0;\n",
       "  margin-bottom: 0;\n",
       "}\n",
       "\n",
       ".xr-obj-type,\n",
       ".xr-array-name {\n",
       "  margin-left: 2px;\n",
       "  margin-right: 10px;\n",
       "}\n",
       "\n",
       ".xr-obj-type {\n",
       "  color: var(--xr-font-color2);\n",
       "}\n",
       "\n",
       ".xr-sections {\n",
       "  padding-left: 0 !important;\n",
       "  display: grid;\n",
       "  grid-template-columns: 150px auto auto 1fr 20px 20px;\n",
       "}\n",
       "\n",
       ".xr-section-item {\n",
       "  display: contents;\n",
       "}\n",
       "\n",
       ".xr-section-item input {\n",
       "  display: none;\n",
       "}\n",
       "\n",
       ".xr-section-item input + label {\n",
       "  color: var(--xr-disabled-color);\n",
       "}\n",
       "\n",
       ".xr-section-item input:enabled + label {\n",
       "  cursor: pointer;\n",
       "  color: var(--xr-font-color2);\n",
       "}\n",
       "\n",
       ".xr-section-item input:enabled + label:hover {\n",
       "  color: var(--xr-font-color0);\n",
       "}\n",
       "\n",
       ".xr-section-summary {\n",
       "  grid-column: 1;\n",
       "  color: var(--xr-font-color2);\n",
       "  font-weight: 500;\n",
       "}\n",
       "\n",
       ".xr-section-summary > span {\n",
       "  display: inline-block;\n",
       "  padding-left: 0.5em;\n",
       "}\n",
       "\n",
       ".xr-section-summary-in:disabled + label {\n",
       "  color: var(--xr-font-color2);\n",
       "}\n",
       "\n",
       ".xr-section-summary-in + label:before {\n",
       "  display: inline-block;\n",
       "  content: '►';\n",
       "  font-size: 11px;\n",
       "  width: 15px;\n",
       "  text-align: center;\n",
       "}\n",
       "\n",
       ".xr-section-summary-in:disabled + label:before {\n",
       "  color: var(--xr-disabled-color);\n",
       "}\n",
       "\n",
       ".xr-section-summary-in:checked + label:before {\n",
       "  content: '▼';\n",
       "}\n",
       "\n",
       ".xr-section-summary-in:checked + label > span {\n",
       "  display: none;\n",
       "}\n",
       "\n",
       ".xr-section-summary,\n",
       ".xr-section-inline-details {\n",
       "  padding-top: 4px;\n",
       "  padding-bottom: 4px;\n",
       "}\n",
       "\n",
       ".xr-section-inline-details {\n",
       "  grid-column: 2 / -1;\n",
       "}\n",
       "\n",
       ".xr-section-details {\n",
       "  display: none;\n",
       "  grid-column: 1 / -1;\n",
       "  margin-bottom: 5px;\n",
       "}\n",
       "\n",
       ".xr-section-summary-in:checked ~ .xr-section-details {\n",
       "  display: contents;\n",
       "}\n",
       "\n",
       ".xr-array-wrap {\n",
       "  grid-column: 1 / -1;\n",
       "  display: grid;\n",
       "  grid-template-columns: 20px auto;\n",
       "}\n",
       "\n",
       ".xr-array-wrap > label {\n",
       "  grid-column: 1;\n",
       "  vertical-align: top;\n",
       "}\n",
       "\n",
       ".xr-preview {\n",
       "  color: var(--xr-font-color3);\n",
       "}\n",
       "\n",
       ".xr-array-preview,\n",
       ".xr-array-data {\n",
       "  padding: 0 5px !important;\n",
       "  grid-column: 2;\n",
       "}\n",
       "\n",
       ".xr-array-data,\n",
       ".xr-array-in:checked ~ .xr-array-preview {\n",
       "  display: none;\n",
       "}\n",
       "\n",
       ".xr-array-in:checked ~ .xr-array-data,\n",
       ".xr-array-preview {\n",
       "  display: inline-block;\n",
       "}\n",
       "\n",
       ".xr-dim-list {\n",
       "  display: inline-block !important;\n",
       "  list-style: none;\n",
       "  padding: 0 !important;\n",
       "  margin: 0;\n",
       "}\n",
       "\n",
       ".xr-dim-list li {\n",
       "  display: inline-block;\n",
       "  padding: 0;\n",
       "  margin: 0;\n",
       "}\n",
       "\n",
       ".xr-dim-list:before {\n",
       "  content: '(';\n",
       "}\n",
       "\n",
       ".xr-dim-list:after {\n",
       "  content: ')';\n",
       "}\n",
       "\n",
       ".xr-dim-list li:not(:last-child):after {\n",
       "  content: ',';\n",
       "  padding-right: 5px;\n",
       "}\n",
       "\n",
       ".xr-has-index {\n",
       "  font-weight: bold;\n",
       "}\n",
       "\n",
       ".xr-var-list,\n",
       ".xr-var-item {\n",
       "  display: contents;\n",
       "}\n",
       "\n",
       ".xr-var-item > div,\n",
       ".xr-var-item label,\n",
       ".xr-var-item > .xr-var-name span {\n",
       "  background-color: var(--xr-background-color-row-even);\n",
       "  margin-bottom: 0;\n",
       "}\n",
       "\n",
       ".xr-var-item > .xr-var-name:hover span {\n",
       "  padding-right: 5px;\n",
       "}\n",
       "\n",
       ".xr-var-list > li:nth-child(odd) > div,\n",
       ".xr-var-list > li:nth-child(odd) > label,\n",
       ".xr-var-list > li:nth-child(odd) > .xr-var-name span {\n",
       "  background-color: var(--xr-background-color-row-odd);\n",
       "}\n",
       "\n",
       ".xr-var-name {\n",
       "  grid-column: 1;\n",
       "}\n",
       "\n",
       ".xr-var-dims {\n",
       "  grid-column: 2;\n",
       "}\n",
       "\n",
       ".xr-var-dtype {\n",
       "  grid-column: 3;\n",
       "  text-align: right;\n",
       "  color: var(--xr-font-color2);\n",
       "}\n",
       "\n",
       ".xr-var-preview {\n",
       "  grid-column: 4;\n",
       "}\n",
       "\n",
       ".xr-index-preview {\n",
       "  grid-column: 2 / 5;\n",
       "  color: var(--xr-font-color2);\n",
       "}\n",
       "\n",
       ".xr-var-name,\n",
       ".xr-var-dims,\n",
       ".xr-var-dtype,\n",
       ".xr-preview,\n",
       ".xr-attrs dt {\n",
       "  white-space: nowrap;\n",
       "  overflow: hidden;\n",
       "  text-overflow: ellipsis;\n",
       "  padding-right: 10px;\n",
       "}\n",
       "\n",
       ".xr-var-name:hover,\n",
       ".xr-var-dims:hover,\n",
       ".xr-var-dtype:hover,\n",
       ".xr-attrs dt:hover {\n",
       "  overflow: visible;\n",
       "  width: auto;\n",
       "  z-index: 1;\n",
       "}\n",
       "\n",
       ".xr-var-attrs,\n",
       ".xr-var-data,\n",
       ".xr-index-data {\n",
       "  display: none;\n",
       "  background-color: var(--xr-background-color) !important;\n",
       "  padding-bottom: 5px !important;\n",
       "}\n",
       "\n",
       ".xr-var-attrs-in:checked ~ .xr-var-attrs,\n",
       ".xr-var-data-in:checked ~ .xr-var-data,\n",
       ".xr-index-data-in:checked ~ .xr-index-data {\n",
       "  display: block;\n",
       "}\n",
       "\n",
       ".xr-var-data > table {\n",
       "  float: right;\n",
       "}\n",
       "\n",
       ".xr-var-name span,\n",
       ".xr-var-data,\n",
       ".xr-index-name div,\n",
       ".xr-index-data,\n",
       ".xr-attrs {\n",
       "  padding-left: 25px !important;\n",
       "}\n",
       "\n",
       ".xr-attrs,\n",
       ".xr-var-attrs,\n",
       ".xr-var-data,\n",
       ".xr-index-data {\n",
       "  grid-column: 1 / -1;\n",
       "}\n",
       "\n",
       "dl.xr-attrs {\n",
       "  padding: 0;\n",
       "  margin: 0;\n",
       "  display: grid;\n",
       "  grid-template-columns: 125px auto;\n",
       "}\n",
       "\n",
       ".xr-attrs dt,\n",
       ".xr-attrs dd {\n",
       "  padding: 0;\n",
       "  margin: 0;\n",
       "  float: left;\n",
       "  padding-right: 10px;\n",
       "  width: auto;\n",
       "}\n",
       "\n",
       ".xr-attrs dt {\n",
       "  font-weight: normal;\n",
       "  grid-column: 1;\n",
       "}\n",
       "\n",
       ".xr-attrs dt:hover span {\n",
       "  display: inline-block;\n",
       "  background: var(--xr-background-color);\n",
       "  padding-right: 10px;\n",
       "}\n",
       "\n",
       ".xr-attrs dd {\n",
       "  grid-column: 2;\n",
       "  white-space: pre-wrap;\n",
       "  word-break: break-all;\n",
       "}\n",
       "\n",
       ".xr-icon-database,\n",
       ".xr-icon-file-text2,\n",
       ".xr-no-icon {\n",
       "  display: inline-block;\n",
       "  vertical-align: middle;\n",
       "  width: 1em;\n",
       "  height: 1.5em !important;\n",
       "  stroke-width: 0;\n",
       "  stroke: currentColor;\n",
       "  fill: currentColor;\n",
       "}\n",
       "</style><pre class='xr-text-repr-fallback'>&lt;xarray.Dataset&gt;\n",
       "Dimensions:                (time_numeric: 9299, x: 3, y: 3)\n",
       "Coordinates:\n",
       "    mid_date               (time_numeric) datetime64[ns] 1989-11-09T04:53:39....\n",
       "  * x                      (x) float64 6.229e+05 6.23e+05 6.231e+05\n",
       "  * y                      (y) float64 3.956e+06 3.956e+06 3.956e+06\n",
       "    img_separation         (time_numeric) float64 16.0 16.0 112.0 ... 15.0 5.0\n",
       "  * time_numeric           (time_numeric) float64 1.99e+03 ... 2.023e+03\n",
       "    obs_id                 (time_numeric) int64 0 2 3 4 ... 10742 10743 10744\n",
       "    mapping                int64 0\n",
       "Data variables:\n",
       "    v                      (time_numeric, y, x) float32 nan nan ... 46.0 46.0\n",
       "    vy                     (time_numeric, y, x) float32 nan nan ... 0.0 0.0\n",
       "    vx                     (time_numeric, y, x) float32 nan nan ... -46.0 -46.0\n",
       "    v_error                (time_numeric, y, x) float32 nan nan ... 80.0 80.0\n",
       "    satellite_img1         (time_numeric) &lt;U2 &#x27;5&#x27; &#x27;5&#x27; &#x27;5&#x27; &#x27;5&#x27; ... &#x27;1A&#x27; &#x27;2B&#x27; &#x27;2B&#x27;\n",
       "    satellite_img2         (time_numeric) &lt;U2 &#x27;5&#x27; &#x27;5&#x27; &#x27;5&#x27; &#x27;5&#x27; ... &#x27;1A&#x27; &#x27;2A&#x27; &#x27;2A&#x27;\n",
       "    acquisition_date_img1  (time_numeric) datetime64[ns] 1989-11-01T04:53:56....\n",
       "    acquisition_date_img2  (time_numeric) datetime64[ns] 1989-11-17T04:53:20....\n",
       "    img1_numeric           (time_numeric) float64 1.99e+03 ... 2.023e+03\n",
       "    img2_numeric           (time_numeric) float64 1.99e+03 ... 2.023e+03\n",
       "Attributes: (12/19)\n",
       "    Conventions:                CF-1.8\n",
       "    GDAL_AREA_OR_POINT:         Area\n",
       "    author:                     ITS_LIVE, a NASA MEaSUREs project (its-live.j...\n",
       "    autoRIFT_parameter_file:    http://its-live-data.s3.amazonaws.com/autorif...\n",
       "    datacube_software_version:  1.0\n",
       "    date_created:               25-Sep-2023 21:40:31\n",
       "    ...                         ...\n",
       "    s3:                         s3://its-live-data/datacubes/v2/N30E070/ITS_L...\n",
       "    skipped_granules:           s3://its-live-data/datacubes/v2/N30E070/ITS_L...\n",
       "    time_standard_img1:         UTC\n",
       "    time_standard_img2:         UTC\n",
       "    title:                      ITS_LIVE datacube of image pair velocities\n",
       "    url:                        https://its-live-data.s3.amazonaws.com/datacu...</pre><div class='xr-wrap' style='display:none'><div class='xr-header'><div class='xr-obj-type'>xarray.Dataset</div></div><ul class='xr-sections'><li class='xr-section-item'><input id='section-c63c3796-64c8-44bc-8e26-e5822cdd091f' class='xr-section-summary-in' type='checkbox' disabled ><label for='section-c63c3796-64c8-44bc-8e26-e5822cdd091f' class='xr-section-summary'  title='Expand/collapse section'>Dimensions:</label><div class='xr-section-inline-details'><ul class='xr-dim-list'><li><span class='xr-has-index'>time_numeric</span>: 9299</li><li><span class='xr-has-index'>x</span>: 3</li><li><span class='xr-has-index'>y</span>: 3</li></ul></div><div class='xr-section-details'></div></li><li class='xr-section-item'><input id='section-0ef4f0de-1124-4e71-9036-8b94480017d0' class='xr-section-summary-in' type='checkbox'  checked><label for='section-0ef4f0de-1124-4e71-9036-8b94480017d0' class='xr-section-summary' >Coordinates: <span>(7)</span></label><div class='xr-section-inline-details'></div><div class='xr-section-details'><ul class='xr-var-list'><li class='xr-var-item'><div class='xr-var-name'><span>mid_date</span></div><div class='xr-var-dims'>(time_numeric)</div><div class='xr-var-dtype'>datetime64[ns]</div><div class='xr-var-preview xr-preview'>1989-11-09T04:53:39.258632960 .....</div><input id='attrs-e632a0af-0786-422b-9920-c9e6fbe09060' class='xr-var-attrs-in' type='checkbox' ><label for='attrs-e632a0af-0786-422b-9920-c9e6fbe09060' title='Show/Hide attributes'><svg class='icon xr-icon-file-text2'><use xlink:href='#icon-file-text2'></use></svg></label><input id='data-4cb28688-43c6-4e91-a4c4-e57eacff2bfa' class='xr-var-data-in' type='checkbox'><label for='data-4cb28688-43c6-4e91-a4c4-e57eacff2bfa' title='Show/Hide data repr'><svg class='icon xr-icon-database'><use xlink:href='#icon-database'></use></svg></label><div class='xr-var-attrs'><dl class='xr-attrs'><dt><span>description :</span></dt><dd>midpoint of image 1 and image 2 acquisition date and time with granule&#x27;s centroid longitude and latitude as microseconds</dd><dt><span>standard_name :</span></dt><dd>image_pair_center_date_with_time_separation</dd></dl></div><div class='xr-var-data'><pre>array([&#x27;1989-11-09T04:53:39.258632960&#x27;, &#x27;1989-11-25T04:53:12.156636032&#x27;,\n",
       "       &#x27;1990-01-12T04:51:39.916130048&#x27;, ..., &#x27;2022-12-25T12:49:29.407317248&#x27;,\n",
       "       &#x27;2022-12-25T17:42:35.221218048&#x27;, &#x27;2022-12-30T17:42:35.221228032&#x27;],\n",
       "      dtype=&#x27;datetime64[ns]&#x27;)</pre></div></li><li class='xr-var-item'><div class='xr-var-name'><span class='xr-has-index'>x</span></div><div class='xr-var-dims'>(x)</div><div class='xr-var-dtype'>float64</div><div class='xr-var-preview xr-preview'>6.229e+05 6.23e+05 6.231e+05</div><input id='attrs-6f0ddd58-cddc-4298-b4f6-ca189a3d782f' class='xr-var-attrs-in' type='checkbox' ><label for='attrs-6f0ddd58-cddc-4298-b4f6-ca189a3d782f' title='Show/Hide attributes'><svg class='icon xr-icon-file-text2'><use xlink:href='#icon-file-text2'></use></svg></label><input id='data-72a03c44-3864-4048-b947-d24a8d211867' class='xr-var-data-in' type='checkbox'><label for='data-72a03c44-3864-4048-b947-d24a8d211867' title='Show/Hide data repr'><svg class='icon xr-icon-database'><use xlink:href='#icon-database'></use></svg></label><div class='xr-var-attrs'><dl class='xr-attrs'><dt><span>description :</span></dt><dd>x coordinate of projection</dd><dt><span>standard_name :</span></dt><dd>projection_x_coordinate</dd><dt><span>axis :</span></dt><dd>X</dd><dt><span>long_name :</span></dt><dd>x coordinate of projection</dd><dt><span>units :</span></dt><dd>metre</dd></dl></div><div class='xr-var-data'><pre>array([622852.5, 622972.5, 623092.5])</pre></div></li><li class='xr-var-item'><div class='xr-var-name'><span class='xr-has-index'>y</span></div><div class='xr-var-dims'>(y)</div><div class='xr-var-dtype'>float64</div><div class='xr-var-preview xr-preview'>3.956e+06 3.956e+06 3.956e+06</div><input id='attrs-f04fb69f-1ca3-4cc1-aa84-50315d5f556e' class='xr-var-attrs-in' type='checkbox' ><label for='attrs-f04fb69f-1ca3-4cc1-aa84-50315d5f556e' title='Show/Hide attributes'><svg class='icon xr-icon-file-text2'><use xlink:href='#icon-file-text2'></use></svg></label><input id='data-a5773daa-e8bb-4b6a-ad38-5cff2484014c' class='xr-var-data-in' type='checkbox'><label for='data-a5773daa-e8bb-4b6a-ad38-5cff2484014c' title='Show/Hide data repr'><svg class='icon xr-icon-database'><use xlink:href='#icon-database'></use></svg></label><div class='xr-var-attrs'><dl class='xr-attrs'><dt><span>description :</span></dt><dd>y coordinate of projection</dd><dt><span>standard_name :</span></dt><dd>projection_y_coordinate</dd><dt><span>axis :</span></dt><dd>Y</dd><dt><span>long_name :</span></dt><dd>y coordinate of projection</dd><dt><span>units :</span></dt><dd>metre</dd></dl></div><div class='xr-var-data'><pre>array([3955987.5, 3955867.5, 3955747.5])</pre></div></li><li class='xr-var-item'><div class='xr-var-name'><span>img_separation</span></div><div class='xr-var-dims'>(time_numeric)</div><div class='xr-var-dtype'>float64</div><div class='xr-var-preview xr-preview'>16.0 16.0 112.0 ... 12.0 15.0 5.0</div><input id='attrs-cb0225c4-efb6-4e3f-84d4-eff66afbb059' class='xr-var-attrs-in' type='checkbox' disabled><label for='attrs-cb0225c4-efb6-4e3f-84d4-eff66afbb059' title='Show/Hide attributes'><svg class='icon xr-icon-file-text2'><use xlink:href='#icon-file-text2'></use></svg></label><input id='data-31c3381a-6b56-4e6a-b98f-c1bf379843eb' class='xr-var-data-in' type='checkbox'><label for='data-31c3381a-6b56-4e6a-b98f-c1bf379843eb' title='Show/Hide data repr'><svg class='icon xr-icon-database'><use xlink:href='#icon-database'></use></svg></label><div class='xr-var-attrs'><dl class='xr-attrs'></dl></div><div class='xr-var-data'><pre>array([ 16.,  16., 112., ...,  12.,  15.,   5.])</pre></div></li><li class='xr-var-item'><div class='xr-var-name'><span class='xr-has-index'>time_numeric</span></div><div class='xr-var-dims'>(time_numeric)</div><div class='xr-var-dtype'>float64</div><div class='xr-var-preview xr-preview'>1.99e+03 1.99e+03 ... 2.023e+03</div><input id='attrs-aef03276-a5df-45c6-a931-7aadfc1c0114' class='xr-var-attrs-in' type='checkbox' disabled><label for='attrs-aef03276-a5df-45c6-a931-7aadfc1c0114' title='Show/Hide attributes'><svg class='icon xr-icon-file-text2'><use xlink:href='#icon-file-text2'></use></svg></label><input id='data-e4b1f1aa-8d9d-4688-bc9e-a067f5f8179e' class='xr-var-data-in' type='checkbox'><label for='data-e4b1f1aa-8d9d-4688-bc9e-a067f5f8179e' title='Show/Hide data repr'><svg class='icon xr-icon-database'><use xlink:href='#icon-database'></use></svg></label><div class='xr-var-attrs'><dl class='xr-attrs'></dl></div><div class='xr-var-data'><pre>array([1989.857534, 1989.90137 , 1990.032877, ..., 2022.983562, 2022.983562,\n",
       "       2022.99726 ])</pre></div></li><li class='xr-var-item'><div class='xr-var-name'><span>obs_id</span></div><div class='xr-var-dims'>(time_numeric)</div><div class='xr-var-dtype'>int64</div><div class='xr-var-preview xr-preview'>0 2 3 4 ... 10741 10742 10743 10744</div><input id='attrs-94ad16be-f314-4322-b9f4-c34019d964e4' class='xr-var-attrs-in' type='checkbox' disabled><label for='attrs-94ad16be-f314-4322-b9f4-c34019d964e4' title='Show/Hide attributes'><svg class='icon xr-icon-file-text2'><use xlink:href='#icon-file-text2'></use></svg></label><input id='data-3542b1b3-9356-4d3e-9037-cfc584129e1e' class='xr-var-data-in' type='checkbox'><label for='data-3542b1b3-9356-4d3e-9037-cfc584129e1e' title='Show/Hide data repr'><svg class='icon xr-icon-database'><use xlink:href='#icon-database'></use></svg></label><div class='xr-var-attrs'><dl class='xr-attrs'></dl></div><div class='xr-var-data'><pre>array([    0,     2,     3, ..., 10742, 10743, 10744])</pre></div></li><li class='xr-var-item'><div class='xr-var-name'><span>mapping</span></div><div class='xr-var-dims'>()</div><div class='xr-var-dtype'>int64</div><div class='xr-var-preview xr-preview'>0</div><input id='attrs-4d0f9510-1c1b-4b03-809c-415e0088e586' class='xr-var-attrs-in' type='checkbox' ><label for='attrs-4d0f9510-1c1b-4b03-809c-415e0088e586' title='Show/Hide attributes'><svg class='icon xr-icon-file-text2'><use xlink:href='#icon-file-text2'></use></svg></label><input id='data-06c92142-649d-4972-a373-616a84ca9cef' class='xr-var-data-in' type='checkbox'><label for='data-06c92142-649d-4972-a373-616a84ca9cef' title='Show/Hide data repr'><svg class='icon xr-icon-database'><use xlink:href='#icon-database'></use></svg></label><div class='xr-var-attrs'><dl class='xr-attrs'><dt><span>crs_wkt :</span></dt><dd>PROJCS[&quot;WGS 84 / UTM zone 43N&quot;,GEOGCS[&quot;WGS 84&quot;,DATUM[&quot;WGS_1984&quot;,SPHEROID[&quot;WGS 84&quot;,6378137,298.257223563,AUTHORITY[&quot;EPSG&quot;,&quot;7030&quot;]],AUTHORITY[&quot;EPSG&quot;,&quot;6326&quot;]],PRIMEM[&quot;Greenwich&quot;,0,AUTHORITY[&quot;EPSG&quot;,&quot;8901&quot;]],UNIT[&quot;degree&quot;,0.0174532925199433,AUTHORITY[&quot;EPSG&quot;,&quot;9122&quot;]],AUTHORITY[&quot;EPSG&quot;,&quot;4326&quot;]],PROJECTION[&quot;Transverse_Mercator&quot;],PARAMETER[&quot;latitude_of_origin&quot;,0],PARAMETER[&quot;central_meridian&quot;,75],PARAMETER[&quot;scale_factor&quot;,0.9996],PARAMETER[&quot;false_easting&quot;,500000],PARAMETER[&quot;false_northing&quot;,0],UNIT[&quot;metre&quot;,1,AUTHORITY[&quot;EPSG&quot;,&quot;9001&quot;]],AXIS[&quot;Easting&quot;,EAST],AXIS[&quot;Northing&quot;,NORTH],AUTHORITY[&quot;EPSG&quot;,&quot;32643&quot;]]</dd><dt><span>semi_major_axis :</span></dt><dd>6378137.0</dd><dt><span>semi_minor_axis :</span></dt><dd>6356752.314245179</dd><dt><span>inverse_flattening :</span></dt><dd>298.257223563</dd><dt><span>reference_ellipsoid_name :</span></dt><dd>WGS 84</dd><dt><span>longitude_of_prime_meridian :</span></dt><dd>0.0</dd><dt><span>prime_meridian_name :</span></dt><dd>Greenwich</dd><dt><span>geographic_crs_name :</span></dt><dd>WGS 84</dd><dt><span>horizontal_datum_name :</span></dt><dd>World Geodetic System 1984</dd><dt><span>projected_crs_name :</span></dt><dd>WGS 84 / UTM zone 43N</dd><dt><span>grid_mapping_name :</span></dt><dd>transverse_mercator</dd><dt><span>latitude_of_projection_origin :</span></dt><dd>0.0</dd><dt><span>longitude_of_central_meridian :</span></dt><dd>75.0</dd><dt><span>false_easting :</span></dt><dd>500000.0</dd><dt><span>false_northing :</span></dt><dd>0.0</dd><dt><span>scale_factor_at_central_meridian :</span></dt><dd>0.9996</dd><dt><span>spatial_ref :</span></dt><dd>PROJCS[&quot;WGS 84 / UTM zone 43N&quot;,GEOGCS[&quot;WGS 84&quot;,DATUM[&quot;WGS_1984&quot;,SPHEROID[&quot;WGS 84&quot;,6378137,298.257223563,AUTHORITY[&quot;EPSG&quot;,&quot;7030&quot;]],AUTHORITY[&quot;EPSG&quot;,&quot;6326&quot;]],PRIMEM[&quot;Greenwich&quot;,0,AUTHORITY[&quot;EPSG&quot;,&quot;8901&quot;]],UNIT[&quot;degree&quot;,0.0174532925199433,AUTHORITY[&quot;EPSG&quot;,&quot;9122&quot;]],AUTHORITY[&quot;EPSG&quot;,&quot;4326&quot;]],PROJECTION[&quot;Transverse_Mercator&quot;],PARAMETER[&quot;latitude_of_origin&quot;,0],PARAMETER[&quot;central_meridian&quot;,75],PARAMETER[&quot;scale_factor&quot;,0.9996],PARAMETER[&quot;false_easting&quot;,500000],PARAMETER[&quot;false_northing&quot;,0],UNIT[&quot;metre&quot;,1,AUTHORITY[&quot;EPSG&quot;,&quot;9001&quot;]],AXIS[&quot;Easting&quot;,EAST],AXIS[&quot;Northing&quot;,NORTH],AUTHORITY[&quot;EPSG&quot;,&quot;32643&quot;]]</dd><dt><span>GeoTransform :</span></dt><dd>622792.5 120.0 0.0 3956047.5 0.0 -120.0</dd></dl></div><div class='xr-var-data'><pre>array(0)</pre></div></li></ul></div></li><li class='xr-section-item'><input id='section-4dc6e7fe-4ab3-4733-ad12-67ca133cf76a' class='xr-section-summary-in' type='checkbox'  checked><label for='section-4dc6e7fe-4ab3-4733-ad12-67ca133cf76a' class='xr-section-summary' >Data variables: <span>(10)</span></label><div class='xr-section-inline-details'></div><div class='xr-section-details'><ul class='xr-var-list'><li class='xr-var-item'><div class='xr-var-name'><span>v</span></div><div class='xr-var-dims'>(time_numeric, y, x)</div><div class='xr-var-dtype'>float32</div><div class='xr-var-preview xr-preview'>nan nan 293.0 ... 46.0 46.0 46.0</div><input id='attrs-4871197f-9baf-4879-b3ab-d2e15cc499e4' class='xr-var-attrs-in' type='checkbox' ><label for='attrs-4871197f-9baf-4879-b3ab-d2e15cc499e4' title='Show/Hide attributes'><svg class='icon xr-icon-file-text2'><use xlink:href='#icon-file-text2'></use></svg></label><input id='data-a343d84e-eebb-4a13-a6f4-b743ba61fbd1' class='xr-var-data-in' type='checkbox'><label for='data-a343d84e-eebb-4a13-a6f4-b743ba61fbd1' title='Show/Hide data repr'><svg class='icon xr-icon-database'><use xlink:href='#icon-database'></use></svg></label><div class='xr-var-attrs'><dl class='xr-attrs'><dt><span>description :</span></dt><dd>velocity magnitude</dd><dt><span>grid_mapping :</span></dt><dd>mapping</dd><dt><span>standard_name :</span></dt><dd>land_ice_surface_velocity</dd><dt><span>units :</span></dt><dd>meter/year</dd></dl></div><div class='xr-var-data'><pre>array([[[ nan,  nan, 293.],\n",
       "        [171., 134.,  75.],\n",
       "        [197., 146.,  14.]],\n",
       "\n",
       "       [[129., 138., 159.],\n",
       "        [ 86.,  99., 136.],\n",
       "        [ 89., 116.,  44.]],\n",
       "\n",
       "       [[ 65.,  83.,  77.],\n",
       "        [ 64.,  77.,  72.],\n",
       "        [ 65.,  71.,  77.]],\n",
       "\n",
       "       ...,\n",
       "\n",
       "       [[ 69.,  79.,  89.],\n",
       "        [ 70.,  70.,  72.],\n",
       "        [ 87.,  90.,  81.]],\n",
       "\n",
       "       [[ 92., 118.,  94.],\n",
       "        [103.,  75.,  68.],\n",
       "        [ 56.,  78.,  71.]],\n",
       "\n",
       "       [[102.,  46., 102.],\n",
       "        [ 46.,  46.,  46.],\n",
       "        [ 46.,  46.,  46.]]], dtype=float32)</pre></div></li><li class='xr-var-item'><div class='xr-var-name'><span>vy</span></div><div class='xr-var-dims'>(time_numeric, y, x)</div><div class='xr-var-dtype'>float32</div><div class='xr-var-preview xr-preview'>nan nan -255.0 ... 0.0 0.0 0.0</div><input id='attrs-14f1fa25-e20f-4bd7-a834-9433c3c450c0' class='xr-var-attrs-in' type='checkbox' ><label for='attrs-14f1fa25-e20f-4bd7-a834-9433c3c450c0' title='Show/Hide attributes'><svg class='icon xr-icon-file-text2'><use xlink:href='#icon-file-text2'></use></svg></label><input id='data-75108d88-b867-47a5-8572-2adc6a6f70b3' class='xr-var-data-in' type='checkbox'><label for='data-75108d88-b867-47a5-8572-2adc6a6f70b3' title='Show/Hide data repr'><svg class='icon xr-icon-database'><use xlink:href='#icon-database'></use></svg></label><div class='xr-var-attrs'><dl class='xr-attrs'><dt><span>description :</span></dt><dd>velocity component in y direction</dd><dt><span>grid_mapping :</span></dt><dd>mapping</dd><dt><span>standard_name :</span></dt><dd>land_ice_surface_y_velocity</dd><dt><span>units :</span></dt><dd>meter/year</dd></dl></div><div class='xr-var-data'><pre>array([[[  nan,   nan, -255.],\n",
       "        [ -94.,  -98.,  -69.],\n",
       "        [-126., -114.,    7.]],\n",
       "\n",
       "       [[-128., -128., -128.],\n",
       "        [ -86.,  -86.,    0.],\n",
       "        [ -43.,  -86.,  -43.]],\n",
       "\n",
       "       [[   6.,   -6.,    6.],\n",
       "        [   0.,    6.,   12.],\n",
       "        [   6.,    6.,    0.]],\n",
       "\n",
       "       ...,\n",
       "\n",
       "       [[ -27.,  -16.,  -18.],\n",
       "        [  -1.,   13.,   -1.],\n",
       "        [  38.,   53.,   25.]],\n",
       "\n",
       "       [[ -30.,  -61.,  -61.],\n",
       "        [ -15.,  -26.,  -15.],\n",
       "        [   0.,  -27.,  -18.]],\n",
       "\n",
       "       [[ -46.,    0.,  -46.],\n",
       "        [   0.,    0.,    0.],\n",
       "        [   0.,    0.,    0.]]], dtype=float32)</pre></div></li><li class='xr-var-item'><div class='xr-var-name'><span>vx</span></div><div class='xr-var-dims'>(time_numeric, y, x)</div><div class='xr-var-dtype'>float32</div><div class='xr-var-preview xr-preview'>nan nan -144.0 ... -46.0 -46.0</div><input id='attrs-23986f86-fb41-428d-a930-e4c652a305b8' class='xr-var-attrs-in' type='checkbox' ><label for='attrs-23986f86-fb41-428d-a930-e4c652a305b8' title='Show/Hide attributes'><svg class='icon xr-icon-file-text2'><use xlink:href='#icon-file-text2'></use></svg></label><input id='data-e33ebdb8-15f4-4764-a725-dfabb952be9c' class='xr-var-data-in' type='checkbox'><label for='data-e33ebdb8-15f4-4764-a725-dfabb952be9c' title='Show/Hide data repr'><svg class='icon xr-icon-database'><use xlink:href='#icon-database'></use></svg></label><div class='xr-var-attrs'><dl class='xr-attrs'><dt><span>description :</span></dt><dd>velocity component in x direction</dd><dt><span>grid_mapping :</span></dt><dd>mapping</dd><dt><span>standard_name :</span></dt><dd>land_ice_surface_x_velocity</dd><dt><span>units :</span></dt><dd>meter/year</dd></dl></div><div class='xr-var-data'><pre>array([[[  nan,   nan, -144.],\n",
       "        [-142.,  -91.,  -29.],\n",
       "        [-152.,  -91.,  -12.]],\n",
       "\n",
       "       [[   8.,   51.,   93.],\n",
       "        [   8.,   51.,  136.],\n",
       "        [ -78.,  -78.,    8.]],\n",
       "\n",
       "       [[ -64.,  -83.,  -77.],\n",
       "        [ -64.,  -77.,  -71.],\n",
       "        [ -64.,  -71.,  -77.]],\n",
       "\n",
       "       ...,\n",
       "\n",
       "       [[ -63.,  -78.,  -87.],\n",
       "        [ -70.,  -69.,  -72.],\n",
       "        [ -78.,  -73.,  -77.]],\n",
       "\n",
       "       [[ -86., -102.,  -71.],\n",
       "        [-102.,  -70.,  -66.],\n",
       "        [ -56.,  -73.,  -69.]],\n",
       "\n",
       "       [[ -91.,  -46.,  -91.],\n",
       "        [ -46.,  -46.,  -46.],\n",
       "        [ -46.,  -46.,  -46.]]], dtype=float32)</pre></div></li><li class='xr-var-item'><div class='xr-var-name'><span>v_error</span></div><div class='xr-var-dims'>(time_numeric, y, x)</div><div class='xr-var-dtype'>float32</div><div class='xr-var-preview xr-preview'>nan nan 140.0 ... 80.0 80.0 80.0</div><input id='attrs-b559ff92-1b2a-4232-920b-e1dab21586bc' class='xr-var-attrs-in' type='checkbox' ><label for='attrs-b559ff92-1b2a-4232-920b-e1dab21586bc' title='Show/Hide attributes'><svg class='icon xr-icon-file-text2'><use xlink:href='#icon-file-text2'></use></svg></label><input id='data-399520f0-b749-4718-9db3-bd01e561ad49' class='xr-var-data-in' type='checkbox'><label for='data-399520f0-b749-4718-9db3-bd01e561ad49' title='Show/Hide data repr'><svg class='icon xr-icon-database'><use xlink:href='#icon-database'></use></svg></label><div class='xr-var-attrs'><dl class='xr-attrs'><dt><span>description :</span></dt><dd>velocity magnitude error</dd><dt><span>grid_mapping :</span></dt><dd>mapping</dd><dt><span>standard_name :</span></dt><dd>velocity_error</dd><dt><span>units :</span></dt><dd>meter/year</dd></dl></div><div class='xr-var-data'><pre>array([[[ nan,  nan, 140.],\n",
       "        [144., 142., 139.],\n",
       "        [143., 142., 145.]],\n",
       "\n",
       "       [[102., 107., 115.],\n",
       "        [102., 112., 136.],\n",
       "        [129., 119., 103.]],\n",
       "\n",
       "       [[ 29.,  29.,  29.],\n",
       "        [ 29.,  29.,  29.],\n",
       "        [ 29.,  29.,  29.]],\n",
       "\n",
       "       ...,\n",
       "\n",
       "       [[ 61.,  64.,  64.],\n",
       "        [ 65.,  64.,  65.],\n",
       "        [ 60.,  56.,  63.]],\n",
       "\n",
       "       [[ 38.,  42.,  46.],\n",
       "        [ 35.,  38.,  36.],\n",
       "        [ 35.,  38.,  37.]],\n",
       "\n",
       "       [[ 93.,  80.,  93.],\n",
       "        [ 80.,  80.,  80.],\n",
       "        [ 80.,  80.,  80.]]], dtype=float32)</pre></div></li><li class='xr-var-item'><div class='xr-var-name'><span>satellite_img1</span></div><div class='xr-var-dims'>(time_numeric)</div><div class='xr-var-dtype'>&lt;U2</div><div class='xr-var-preview xr-preview'>&#x27;5&#x27; &#x27;5&#x27; &#x27;5&#x27; &#x27;5&#x27; ... &#x27;1A&#x27; &#x27;2B&#x27; &#x27;2B&#x27;</div><input id='attrs-7ace5c4d-f995-4e3e-a512-e9a933d8aa79' class='xr-var-attrs-in' type='checkbox' ><label for='attrs-7ace5c4d-f995-4e3e-a512-e9a933d8aa79' title='Show/Hide attributes'><svg class='icon xr-icon-file-text2'><use xlink:href='#icon-file-text2'></use></svg></label><input id='data-d3f8f810-bf12-4604-984c-d468c530fe15' class='xr-var-data-in' type='checkbox'><label for='data-d3f8f810-bf12-4604-984c-d468c530fe15' title='Show/Hide data repr'><svg class='icon xr-icon-database'><use xlink:href='#icon-database'></use></svg></label><div class='xr-var-attrs'><dl class='xr-attrs'><dt><span>description :</span></dt><dd>id of the satellite that acquired image 1</dd><dt><span>standard_name :</span></dt><dd>image1_satellite</dd></dl></div><div class='xr-var-data'><pre>array([&#x27;5&#x27;, &#x27;5&#x27;, &#x27;5&#x27;, ..., &#x27;1A&#x27;, &#x27;2B&#x27;, &#x27;2B&#x27;], dtype=&#x27;&lt;U2&#x27;)</pre></div></li><li class='xr-var-item'><div class='xr-var-name'><span>satellite_img2</span></div><div class='xr-var-dims'>(time_numeric)</div><div class='xr-var-dtype'>&lt;U2</div><div class='xr-var-preview xr-preview'>&#x27;5&#x27; &#x27;5&#x27; &#x27;5&#x27; &#x27;5&#x27; ... &#x27;1A&#x27; &#x27;2A&#x27; &#x27;2A&#x27;</div><input id='attrs-2af136ca-61c5-4949-a71a-a58d36e63d6e' class='xr-var-attrs-in' type='checkbox' ><label for='attrs-2af136ca-61c5-4949-a71a-a58d36e63d6e' title='Show/Hide attributes'><svg class='icon xr-icon-file-text2'><use xlink:href='#icon-file-text2'></use></svg></label><input id='data-0b35a744-1b6b-4b26-83d0-e3084a2de25d' class='xr-var-data-in' type='checkbox'><label for='data-0b35a744-1b6b-4b26-83d0-e3084a2de25d' title='Show/Hide data repr'><svg class='icon xr-icon-database'><use xlink:href='#icon-database'></use></svg></label><div class='xr-var-attrs'><dl class='xr-attrs'><dt><span>description :</span></dt><dd>id of the satellite that acquired image 2</dd><dt><span>standard_name :</span></dt><dd>image2_satellite</dd></dl></div><div class='xr-var-data'><pre>array([&#x27;5&#x27;, &#x27;5&#x27;, &#x27;5&#x27;, ..., &#x27;1A&#x27;, &#x27;2A&#x27;, &#x27;2A&#x27;], dtype=&#x27;&lt;U2&#x27;)</pre></div></li><li class='xr-var-item'><div class='xr-var-name'><span>acquisition_date_img1</span></div><div class='xr-var-dims'>(time_numeric)</div><div class='xr-var-dtype'>datetime64[ns]</div><div class='xr-var-preview xr-preview'>1989-11-01T04:53:56.535037952 .....</div><input id='attrs-65ebb8ed-e1d0-46c6-bb3a-a75d71757bf5' class='xr-var-attrs-in' type='checkbox' disabled><label for='attrs-65ebb8ed-e1d0-46c6-bb3a-a75d71757bf5' title='Show/Hide attributes'><svg class='icon xr-icon-file-text2'><use xlink:href='#icon-file-text2'></use></svg></label><input id='data-d14b3d3f-cf79-48cc-9be0-1532ed6ee537' class='xr-var-data-in' type='checkbox'><label for='data-d14b3d3f-cf79-48cc-9be0-1532ed6ee537' title='Show/Hide data repr'><svg class='icon xr-icon-database'><use xlink:href='#icon-database'></use></svg></label><div class='xr-var-attrs'><dl class='xr-attrs'></dl></div><div class='xr-var-data'><pre>array([&#x27;1989-11-01T04:53:56.535037952&#x27;, &#x27;1989-11-17T04:53:20.200024960&#x27;,\n",
       "       &#x27;1989-11-17T04:53:20.200024960&#x27;, ..., &#x27;2022-12-19T12:49:29.424342016&#x27;,\n",
       "       &#x27;2022-12-18T05:42:39.000000000&#x27;, &#x27;2022-12-28T05:42:39.000000000&#x27;],\n",
       "      dtype=&#x27;datetime64[ns]&#x27;)</pre></div></li><li class='xr-var-item'><div class='xr-var-name'><span>acquisition_date_img2</span></div><div class='xr-var-dims'>(time_numeric)</div><div class='xr-var-dtype'>datetime64[ns]</div><div class='xr-var-preview xr-preview'>1989-11-17T04:53:20.200024960 .....</div><input id='attrs-d952080d-18cb-407e-bef4-34eec9a08984' class='xr-var-attrs-in' type='checkbox' disabled><label for='attrs-d952080d-18cb-407e-bef4-34eec9a08984' title='Show/Hide attributes'><svg class='icon xr-icon-file-text2'><use xlink:href='#icon-file-text2'></use></svg></label><input id='data-ca92810b-5b4f-45da-912a-374459a88fa5' class='xr-var-data-in' type='checkbox'><label for='data-ca92810b-5b4f-45da-912a-374459a88fa5' title='Show/Hide data repr'><svg class='icon xr-icon-database'><use xlink:href='#icon-database'></use></svg></label><div class='xr-var-attrs'><dl class='xr-attrs'></dl></div><div class='xr-var-data'><pre>array([&#x27;1989-11-17T04:53:20.200024960&#x27;, &#x27;1989-12-03T04:53:02.331012992&#x27;,\n",
       "       &#x27;1990-03-09T04:49:57.850000000&#x27;, ..., &#x27;2022-12-31T12:49:28.947853056&#x27;,\n",
       "       &#x27;2023-01-02T05:42:31.000000000&#x27;, &#x27;2023-01-02T05:42:31.000000000&#x27;],\n",
       "      dtype=&#x27;datetime64[ns]&#x27;)</pre></div></li><li class='xr-var-item'><div class='xr-var-name'><span>img1_numeric</span></div><div class='xr-var-dims'>(time_numeric)</div><div class='xr-var-dtype'>float64</div><div class='xr-var-preview xr-preview'>1.99e+03 1.99e+03 ... 2.023e+03</div><input id='attrs-91a56b5a-d822-4224-b3ed-d4a13a4c4994' class='xr-var-attrs-in' type='checkbox' disabled><label for='attrs-91a56b5a-d822-4224-b3ed-d4a13a4c4994' title='Show/Hide attributes'><svg class='icon xr-icon-file-text2'><use xlink:href='#icon-file-text2'></use></svg></label><input id='data-33566e0b-980b-4f5c-9187-c6acffe64d99' class='xr-var-data-in' type='checkbox'><label for='data-33566e0b-980b-4f5c-9187-c6acffe64d99' title='Show/Hide data repr'><svg class='icon xr-icon-database'><use xlink:href='#icon-database'></use></svg></label><div class='xr-var-attrs'><dl class='xr-attrs'></dl></div><div class='xr-var-data'><pre>array([1989.83561644, 1989.87945205, 1989.87945205, ..., 2022.96712329,\n",
       "       2022.96438356, 2022.99178082])</pre></div></li><li class='xr-var-item'><div class='xr-var-name'><span>img2_numeric</span></div><div class='xr-var-dims'>(time_numeric)</div><div class='xr-var-dtype'>float64</div><div class='xr-var-preview xr-preview'>1.99e+03 1.99e+03 ... 2.023e+03</div><input id='attrs-c30cf447-d0e9-42a0-b626-2c1303d6233c' class='xr-var-attrs-in' type='checkbox' disabled><label for='attrs-c30cf447-d0e9-42a0-b626-2c1303d6233c' title='Show/Hide attributes'><svg class='icon xr-icon-file-text2'><use xlink:href='#icon-file-text2'></use></svg></label><input id='data-3f56cf58-8f86-42a2-bb46-27c3315b3aae' class='xr-var-data-in' type='checkbox'><label for='data-3f56cf58-8f86-42a2-bb46-27c3315b3aae' title='Show/Hide data repr'><svg class='icon xr-icon-database'><use xlink:href='#icon-database'></use></svg></label><div class='xr-var-attrs'><dl class='xr-attrs'></dl></div><div class='xr-var-data'><pre>array([1989.87945205, 1989.92328767, 1990.18630137, ..., 2023.        ,\n",
       "       2023.00547945, 2023.00547945])</pre></div></li></ul></div></li><li class='xr-section-item'><input id='section-a6a92eca-84bf-4091-8cfd-9f9cd0c356b3' class='xr-section-summary-in' type='checkbox'  ><label for='section-a6a92eca-84bf-4091-8cfd-9f9cd0c356b3' class='xr-section-summary' >Indexes: <span>(3)</span></label><div class='xr-section-inline-details'></div><div class='xr-section-details'><ul class='xr-var-list'><li class='xr-var-item'><div class='xr-index-name'><div>x</div></div><div class='xr-index-preview'>PandasIndex</div><div></div><input id='index-6908af64-36bf-48a5-8889-98cc62b58247' class='xr-index-data-in' type='checkbox'/><label for='index-6908af64-36bf-48a5-8889-98cc62b58247' title='Show/Hide index repr'><svg class='icon xr-icon-database'><use xlink:href='#icon-database'></use></svg></label><div class='xr-index-data'><pre>PandasIndex(Float64Index([622852.5, 622972.5, 623092.5], dtype=&#x27;float64&#x27;, name=&#x27;x&#x27;))</pre></div></li><li class='xr-var-item'><div class='xr-index-name'><div>y</div></div><div class='xr-index-preview'>PandasIndex</div><div></div><input id='index-242b6d8b-7db0-4e0d-9627-43e61947e29c' class='xr-index-data-in' type='checkbox'/><label for='index-242b6d8b-7db0-4e0d-9627-43e61947e29c' title='Show/Hide index repr'><svg class='icon xr-icon-database'><use xlink:href='#icon-database'></use></svg></label><div class='xr-index-data'><pre>PandasIndex(Float64Index([3955987.5, 3955867.5, 3955747.5], dtype=&#x27;float64&#x27;, name=&#x27;y&#x27;))</pre></div></li><li class='xr-var-item'><div class='xr-index-name'><div>time_numeric</div></div><div class='xr-index-preview'>PandasIndex</div><div></div><input id='index-b6447eff-f6d5-4f26-8213-b944923b90e6' class='xr-index-data-in' type='checkbox'/><label for='index-b6447eff-f6d5-4f26-8213-b944923b90e6' title='Show/Hide index repr'><svg class='icon xr-icon-database'><use xlink:href='#icon-database'></use></svg></label><div class='xr-index-data'><pre>PandasIndex(Float64Index([1989.8575342465754, 1989.9013698630138, 1990.0328767123287,\n",
       "               1990.054794520548, 1990.0767123287671, 1990.2082191780821,\n",
       "              1990.4712328767123, 1990.4931506849316, 1990.6246575342466,\n",
       "              1990.8438356164384,\n",
       "              ...\n",
       "              2022.9506849315069, 2022.9506849315069, 2022.9561643835616,\n",
       "               2022.964383561644,  2022.964383561644, 2022.9671232876713,\n",
       "               2022.978082191781, 2022.9835616438356, 2022.9835616438356,\n",
       "              2022.9972602739726],\n",
       "             dtype=&#x27;float64&#x27;, name=&#x27;time_numeric&#x27;, length=9299))</pre></div></li></ul></div></li><li class='xr-section-item'><input id='section-851e1f30-54b1-41bf-99d4-1e64ca1dd732' class='xr-section-summary-in' type='checkbox'  ><label for='section-851e1f30-54b1-41bf-99d4-1e64ca1dd732' class='xr-section-summary' >Attributes: <span>(19)</span></label><div class='xr-section-inline-details'></div><div class='xr-section-details'><dl class='xr-attrs'><dt><span>Conventions :</span></dt><dd>CF-1.8</dd><dt><span>GDAL_AREA_OR_POINT :</span></dt><dd>Area</dd><dt><span>author :</span></dt><dd>ITS_LIVE, a NASA MEaSUREs project (its-live.jpl.nasa.gov)</dd><dt><span>autoRIFT_parameter_file :</span></dt><dd>http://its-live-data.s3.amazonaws.com/autorift_parameters/v001/autorift_landice_0120m.shp</dd><dt><span>datacube_software_version :</span></dt><dd>1.0</dd><dt><span>date_created :</span></dt><dd>25-Sep-2023 21:40:31</dd><dt><span>date_updated :</span></dt><dd>25-Sep-2023 21:40:31</dd><dt><span>geo_polygon :</span></dt><dd>[[76.09904081237153, 35.23808753540768], [76.37373771395167, 35.23528114245288], [76.64839243229527, 35.23185167489208], [76.92299654851548, 35.22779947344429], [77.19754165339832, 35.22312494055522], [77.20365107689102, 35.44838172077874], [77.20982866216805, 35.67362915282389], [77.2160751727205, 35.89886720154925], [77.22239138543658, 36.12409583213699], [76.94474681612479, 36.12892718369556], [76.66704053712027, 36.13311534132254], [76.3892813413495, 36.13665988259089], [76.11147803222622, 36.139560449860255], [76.10831675620092, 35.91420526851637], [76.10519038612571, 35.68884137224295], [76.10209853245563, 35.46346878604592], [76.09904081237153, 35.23808753540768]]</dd><dt><span>institution :</span></dt><dd>NASA Jet Propulsion Laboratory (JPL), California Institute of Technology</dd><dt><span>latitude :</span></dt><dd>35.68</dd><dt><span>longitude :</span></dt><dd>76.66</dd><dt><span>proj_polygon :</span></dt><dd>[[600000, 3900000], [625000.0, 3900000.0], [650000.0, 3900000.0], [675000.0, 3900000.0], [700000, 3900000], [700000.0, 3925000.0], [700000.0, 3950000.0], [700000.0, 3975000.0], [700000, 4000000], [675000.0, 4000000.0], [650000.0, 4000000.0], [625000.0, 4000000.0], [600000, 4000000], [600000.0, 3975000.0], [600000.0, 3950000.0], [600000.0, 3925000.0], [600000, 3900000]]</dd><dt><span>projection :</span></dt><dd>32643</dd><dt><span>s3 :</span></dt><dd>s3://its-live-data/datacubes/v2/N30E070/ITS_LIVE_vel_EPSG32643_G0120_X650000_Y3950000.zarr</dd><dt><span>skipped_granules :</span></dt><dd>s3://its-live-data/datacubes/v2/N30E070/ITS_LIVE_vel_EPSG32643_G0120_X650000_Y3950000.json</dd><dt><span>time_standard_img1 :</span></dt><dd>UTC</dd><dt><span>time_standard_img2 :</span></dt><dd>UTC</dd><dt><span>title :</span></dt><dd>ITS_LIVE datacube of image pair velocities</dd><dt><span>url :</span></dt><dd>https://its-live-data.s3.amazonaws.com/datacubes/v2/N30E070/ITS_LIVE_vel_EPSG32643_G0120_X650000_Y3950000.zarr</dd></dl></div></li></ul></div></div>"
      ],
      "text/plain": [
       "<xarray.Dataset>\n",
       "Dimensions:                (time_numeric: 9299, x: 3, y: 3)\n",
       "Coordinates:\n",
       "    mid_date               (time_numeric) datetime64[ns] 1989-11-09T04:53:39....\n",
       "  * x                      (x) float64 6.229e+05 6.23e+05 6.231e+05\n",
       "  * y                      (y) float64 3.956e+06 3.956e+06 3.956e+06\n",
       "    img_separation         (time_numeric) float64 16.0 16.0 112.0 ... 15.0 5.0\n",
       "  * time_numeric           (time_numeric) float64 1.99e+03 ... 2.023e+03\n",
       "    obs_id                 (time_numeric) int64 0 2 3 4 ... 10742 10743 10744\n",
       "    mapping                int64 0\n",
       "Data variables:\n",
       "    v                      (time_numeric, y, x) float32 nan nan ... 46.0 46.0\n",
       "    vy                     (time_numeric, y, x) float32 nan nan ... 0.0 0.0\n",
       "    vx                     (time_numeric, y, x) float32 nan nan ... -46.0 -46.0\n",
       "    v_error                (time_numeric, y, x) float32 nan nan ... 80.0 80.0\n",
       "    satellite_img1         (time_numeric) <U2 '5' '5' '5' '5' ... '1A' '2B' '2B'\n",
       "    satellite_img2         (time_numeric) <U2 '5' '5' '5' '5' ... '1A' '2A' '2A'\n",
       "    acquisition_date_img1  (time_numeric) datetime64[ns] 1989-11-01T04:53:56....\n",
       "    acquisition_date_img2  (time_numeric) datetime64[ns] 1989-11-17T04:53:20....\n",
       "    img1_numeric           (time_numeric) float64 1.99e+03 ... 2.023e+03\n",
       "    img2_numeric           (time_numeric) float64 1.99e+03 ... 2.023e+03\n",
       "Attributes: (12/19)\n",
       "    Conventions:                CF-1.8\n",
       "    GDAL_AREA_OR_POINT:         Area\n",
       "    author:                     ITS_LIVE, a NASA MEaSUREs project (its-live.j...\n",
       "    autoRIFT_parameter_file:    http://its-live-data.s3.amazonaws.com/autorif...\n",
       "    datacube_software_version:  1.0\n",
       "    date_created:               25-Sep-2023 21:40:31\n",
       "    ...                         ...\n",
       "    s3:                         s3://its-live-data/datacubes/v2/N30E070/ITS_L...\n",
       "    skipped_granules:           s3://its-live-data/datacubes/v2/N30E070/ITS_L...\n",
       "    time_standard_img1:         UTC\n",
       "    time_standard_img2:         UTC\n",
       "    title:                      ITS_LIVE datacube of image pair velocities\n",
       "    url:                        https://its-live-data.s3.amazonaws.com/datacu..."
      ]
     },
     "execution_count": 14,
     "metadata": {},
     "output_type": "execute_result"
    }
   ],
   "source": [
    "glacier_pt.cube_around_point"
   ]
  },
  {
   "cell_type": "markdown",
   "metadata": {},
   "source": [
    "### `Glacier_Centerline`\n",
    "\n",
    "Similarly to the `Glacier_Point` object, a `Glacier_Centerline` object inherits some basic information from a `Glacier` object, but this can also be specified manually if you don't want to create a `Glacier` method beforehand. A `Glacier_Centerline` object has attributes called `centerlines` and `main_centerline`. These are both `Geopandas.GeoDataframe` objects containing OGGM flowline data associated with this glacier. They also contain ITS_LIVE image pair velocity time series clipped to the centerline (**still being implemented**)."
   ]
  },
  {
   "cell_type": "code",
   "execution_count": 16,
   "metadata": {},
   "outputs": [],
   "source": [
    "glacier_centerline = programmatic_access.create_glacier_centerline_obj('Jorge Montt', 'RGI60-17.06074')"
   ]
  },
  {
   "cell_type": "code",
   "execution_count": 17,
   "metadata": {},
   "outputs": [
    {
     "data": {
      "text/plain": [
       "<ITS_LIVE_TOOL.obj_setup.Glacier_Centerline at 0x7fadfff85d10>"
      ]
     },
     "execution_count": 17,
     "metadata": {},
     "output_type": "execute_result"
    }
   ],
   "source": [
    "glacier_centerline"
   ]
  },
  {
   "cell_type": "markdown",
   "metadata": {},
   "source": [
    "Each of these objects are meant to act as cotainers to intuitively and efficiently store different types of data as you process and continue to work with ITS_LIVE data. \n",
    "\n",
    "The previous steps demonstrated the data access and organization functionality of ITS_LIVE_TOOl. The subsequent sections of this notebook will demonstrate different processing methodologies for working with this dataset. "
   ]
  },
  {
   "cell_type": "markdown",
   "metadata": {},
   "source": [
    "# Section 2: Data Processing"
   ]
  },
  {
   "cell_type": "markdown",
   "metadata": {},
   "source": [
    "## Filtering + Inspection \n",
    "\n",
    "Examples of situations where outlier detection may be necessary. We present 3 methods for outlier detection. \n",
    "\n",
    "```{note}\n",
    "add images of figures from notebook here ? \n",
    "```"
   ]
  },
  {
   "cell_type": "markdown",
   "metadata": {},
   "source": [
    "\n",
    "# Section 3: Datacube Inversion\n",
    "\n",
    "#### *To dive into the theory of the inversion, check-out the '06_inversion.ipynb' notebook*\n",
    "<br>\n",
    "\n",
    "#### **Problem:**\n",
    "\n",
    "*Find a smooth regularly spaced timeseries of velocities given a set of average measurements of possibly overlapping and variable length time intervals*\n",
    "\n",
    "<br>\n",
    "\n",
    "\n",
    "#### **Inversion applied to ITS_LIVE:**\n",
    "\n",
    "ITS_LIVE is a great dataset that achieves high-density measurements globally, on a long timescale, using the same sensors and method.\n",
    "However it suffers from one main problem: **mid_dates** (timestamps), its attribution of a timestamp for a measurement. For example, if ITS_LIVE uses two images a month apart, it really measures the average velocity for this whole month. Instead, ITS_LIVE attributes to the velocity a timestamp in the middle of the month. \n",
    "\n",
    "The inversion computes all the timestamps and the satellite-pairs length, and calculates a solution depending on all the available values.\n",
    "\n",
    "<br>\n",
    "\n",
    "\n",
    "\n",
    "### **Input your parameters below**\n",
    "\n",
    "*Useful information:*\n",
    "\n",
    "- GPU generally runs the inversion faster, but might be slower when using the spatial regularization.\n",
    "- High lambda encouraged for non-surging glacier\n",
    "- spatial_shape 'cross' is hard-coded because 'ring' would take a lot of RAM and the code would be much more complicated.\n",
    "- spatial_regularization: False if you want a faster computation, slightly less accurate."
   ]
  },
  {
   "cell_type": "code",
   "execution_count": 6,
   "metadata": {},
   "outputs": [
    {
     "name": "stdout",
     "output_type": "stream",
     "text": [
      "You have 1 glaciers selected\n"
     ]
    }
   ],
   "source": [
    "# In case you didn't run the cell that grabs the urls\n",
    "coords, gpdf, urls = obj_setup.return_clicked_info(data_map)\n",
    "\n",
    "# In case you haven't created the centerline\n",
    "glacier_centerline = obj_setup.create_glacier_centerline_from_click(data_map, 0)\n",
    "\n",
    "###### INPUT YOUR PARAMETERS #######\n",
    "\n",
    "name_cube = 'Seward' # Name of the dataset\n",
    "\n",
    "mission = None # 'None' if you want all the data, 'S1' for Sentinel-1 only, 'L' for Landsat only, etc.. .\n",
    "\n",
    "lamb = 5 # Smoothing coefficient: the higher the value, the more the inversion favors a smooth output. BAD for surging glaciers, GOOD for non-surging glaciers\n",
    "\n",
    "derivative = 2 # Derivative degree for the inversion. Doesn't change much unless you have a specific reason to choose 1 or 2 (1st or 2nd derivative)\n",
    "\n",
    "day_interval = 60 # Amount of days in between each inversion value. The higher, the faster the inversion. But you also lose in temporal resolution. 12 here because Sentinel-1 repeat-time is 12.\n",
    "\n",
    "sdate = '2019-01-01' # Start date, format 'YYYY-MM-DD' OR None if you want to grab the entire timeseries available\n",
    "\n",
    "edate = None # End date, format 'YYYY-MM-DD' OR None if you want to grab the entire timeseries available\n",
    "\n",
    "GPU = True # True if you want to use GPU, False if you want to use CPU\n",
    "\n",
    "spatial_regularization = False # True if you want to use spatial regularization, False if you only want to use temporal regularization\n",
    "\n",
    "if spatial_regularization:\n",
    "    derivative = 2 # It is better to do a central difference scheme than forward difference in this case\n",
    "    spatial_shape = 'cross' # 'ring' has not been implemented yet, and tests show a huge in increase in computation time\n",
    "    nb_pts_tot = 5\n",
    "else:\n",
    "    nb_pts_tot = 1\n",
    "    spatial_shape = None"
   ]
  },
  {
   "cell_type": "markdown",
   "metadata": {},
   "source": [
    "**Create dictionnaries to hold variables for each datacube**\n",
    "\n",
    "Each datacube has multiple variables associated with it. We gather all these variables in dictionnaries such as 1 datacube = 1 dictionnary.\n",
    "We then gather all the dictionnaries into one for easier organization.\n"
   ]
  },
  {
   "cell_type": "code",
   "execution_count": 7,
   "metadata": {
    "tags": []
   },
   "outputs": [],
   "source": [
    "X_tot, Y_tot, X_valid, Y_valid, data_dict, urls = invert.create_data_dict(urls, mission, lamb, derivative, day_interval, data_map)"
   ]
  },
  {
   "cell_type": "markdown",
   "metadata": {
    "user_expressions": []
   },
   "source": [
    "## Datacubes Extent and Point Validity\n",
    "\n",
    "Designed to grab the extents of the datacubes, and determines which pixel belongs to the GOI (Glacier Of Interest). This way we do not lose time inverting for empty pixels."
   ]
  },
  {
   "cell_type": "code",
   "execution_count": 8,
   "metadata": {
    "tags": []
   },
   "outputs": [
    {
     "name": "stderr",
     "output_type": "stream",
     "text": [
      "100%|██████████| 4/4 [05:40<00:00, 85.21s/it]\n"
     ]
    }
   ],
   "source": [
    "for url in tqdm(range(len(urls))):\n",
    "    X_tot, Y_tot, X_valid, Y_valid = invert.get_extents(urls[url], X_tot, Y_tot, X_valid, Y_valid, mission, lamb, derivative, day_interval, data_map, data_dict)"
   ]
  },
  {
   "cell_type": "markdown",
   "metadata": {
    "user_expressions": []
   },
   "source": [
    "### Map the valid indices in a new array\n",
    "\n",
    "This new array spans all the datacubes. We take the footprint of the GOI, insert-it in an array, and map in this array which pixel is on-glacier.\n",
    "It allows to run the inversion for glacier-points only, accross all the datacubes, and store the inversion output in an array that represents the glacier's shape."
   ]
  },
  {
   "cell_type": "code",
   "execution_count": 12,
   "metadata": {},
   "outputs": [
    {
     "data": {
      "image/png": "[encoded data removed]",
      "text/plain": [
       "<Figure size 640x480 with 1 Axes>"
      ]
     },
     "metadata": {},
     "output_type": "display_data"
    }
   ],
   "source": [
    "space_interval, min_date, max_date, template, P, neighbor_idx, x_indices_centerline, y_indices_centerline, X_arr, X_MIN, X_MAX, Y_arr, Y_MIN, Y_MAX, x_matches, y_matches = invert.cubes_intersection(X_tot, Y_tot, X_valid, Y_valid, data_dict, urls, spatial_regularization, mission, lamb, derivative, day_interval, sdate, edate, nb_pts_tot, glacier_centerline)"
   ]
  },
  {
   "cell_type": "markdown",
   "metadata": {
    "user_expressions": []
   },
   "source": [
    "## Design Matrices\n",
    "\n",
    "This function creates 1 design matrix per cube. Knowing that each cube has different time stamps (different image pairs), but the possible dates for the image pairs are the same for every pixel of the datacube, we can pre-compute 1 design-matrix for each cube. We will simply mask-out the rows that represent time steps for which our point being inverted does not have any value."
   ]
  },
  {
   "cell_type": "code",
   "execution_count": 13,
   "metadata": {
    "tags": []
   },
   "outputs": [],
   "source": [
    "reg_mat_space, reg_mat_time, dates_nonum, dates, data_dict = invert.design_matrices(urls, min_date, max_date, mission, lamb, derivative, day_interval, space_interval, sdate, edate, data_dict)"
   ]
  },
  {
   "cell_type": "markdown",
   "metadata": {},
   "source": [
    "#### Design Matrix components\n",
    "\n",
    "Build the last bricks of the design matrix depending on how many points we use in the regularization & initialize host arrays for the inversion outputs\n",
    "\n"
   ]
  },
  {
   "cell_type": "code",
   "execution_count": 23,
   "metadata": {
    "tags": []
   },
   "outputs": [],
   "source": [
    "vxInv, vyInv, len_pt_inverted, SRT, SRS, space_reg_mat, time_reg_mat =  invert.extend_Matrices(reg_mat_time, nb_pts_tot, reg_mat_space, spatial_regularization, dates, template)"
   ]
  },
  {
   "cell_type": "markdown",
   "metadata": {
    "user_expressions": []
   },
   "source": [
    "### Function to loop through every valid on-glacier pixel and save the dataset\n",
    "\n",
    "The following function calls the point's timeseries from ITS_LIVE, assembles the design matrix, and calls the inversion function. Once it is done, it stores the inversion output in the host matrices (vx & vy). It saves a copy of the matrices as a netcdf object every 10k iterations, and creates a text file printing how many iterations have been computed, every 100 iterations."
   ]
  },
  {
   "cell_type": "code",
   "execution_count": null,
   "metadata": {
    "tags": []
   },
   "outputs": [
    {
     "name": "stderr",
     "output_type": "stream",
     "text": [
      "  2%|▏         | 5801/261717 [17:05<9:37:39,  7.38it/s] "
     ]
    }
   ],
   "source": [
    "# Determine the GPU in your system if you have one\n",
    "if GPU:     \n",
    "    import torch\n",
    "    device = torch.device(\"cuda:0\" if torch.cuda.is_available() else \"cpu\")\n",
    "else:\n",
    "    device = None\n",
    "\n",
    "# Run the inversions for vx and vy and populate vxInv, vyInv\n",
    "for i in tqdm(range(len(y_matches))):\n",
    "\n",
    "    vxInv, vyInv = invert.looper(i, vxInv, vyInv, GPU, spatial_regularization, nb_pts_tot, time_reg_mat, space_reg_mat, len_pt_inverted, data_dict, urls, P, neighbor_idx, x_matches, y_matches, X_arr, X_MIN, X_MAX, Y_arr, Y_MIN, Y_MAX, device, dates_nonum, x_indices_centerline, y_indices_centerline, SRT, SRS)\n",
    "    \n",
    "invert.save_dataset(name_cube, vxInv, vyInv, dates_nonum, X_arr, Y_arr, X_MIN, X_MAX, Y_MIN, Y_MAX, x_indices_centerline, y_indices_centerline, data_dict, urls)"
   ]
  }
 ],
 "metadata": {
  "kernelspec": {
   "display_name": "Python 3 (ipykernel)",
   "language": "python",
   "name": "python3"
  },
  "language_info": {
   "codemirror_mode": {
    "name": "ipython",
    "version": 3
   },
   "file_extension": ".py",
   "mimetype": "text/x-python",
   "name": "python",
   "nbconvert_exporter": "python",
   "pygments_lexer": "ipython3",
   "version": "3.11.5"
  }
 },
 "nbformat": 4,
 "nbformat_minor": 4
}
